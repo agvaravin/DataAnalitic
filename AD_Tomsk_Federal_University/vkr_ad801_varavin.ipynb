{
  "nbformat": 4,
  "nbformat_minor": 0,
  "metadata": {
    "colab": {
      "provenance": [],
      "collapsed_sections": [
        "v_-UR20s0E4t",
        "qb_6II-GIx9K",
        "FOJxmOEUI5dZ",
        "JrlcmZldqrpb",
        "DBDyNjWQI95G",
        "JD3fftuMHV5k",
        "WAKAIebVJGCQ",
        "kw8moQmbhmdz",
        "yKUy1Qipl7P_",
        "GVHkUQNlhmd1",
        "hy1-6Zj0_x3Z",
        "N6q5qaX_tDNO",
        "FGMwiTASJZrd",
        "EMipfWxj3DRO",
        "f9AS0O7Otog7",
        "c8_TZ6IHJf1i"
      ],
      "include_colab_link": true
    },
    "kernelspec": {
      "name": "python3",
      "display_name": "Python 3"
    },
    "language_info": {
      "name": "python"
    }
  },
  "cells": [
    {
      "cell_type": "markdown",
      "metadata": {
        "id": "view-in-github",
        "colab_type": "text"
      },
      "source": [
        "<a href=\"https://colab.research.google.com/github/agvaravin/DataAnalitic/blob/main/vkr_ad801_varavin.ipynb\" target=\"_parent\"><img src=\"https://colab.research.google.com/assets/colab-badge.svg\" alt=\"Open In Colab\"/></a>"
      ]
    },
    {
      "cell_type": "markdown",
      "source": [
        "#**Квалификационная работа**\n",
        "|||\n",
        "|--:|:--|\n",
        "|**поток** |\"Аналитик данных: с нуля до разработки прикладных решений для бизнеса\"|\n",
        "|**группа** |801|\n",
        "|**тема** |\"Исследование ценовой политики розничной компании по выбранной номенклатуре товаров\"|\n",
        "|**автор** |Варавин А.Г.|\n",
        "\n",
        "Нажми Ctrl + ] чтобы увидеть разделы проекта."
      ],
      "metadata": {
        "id": "v_-UR20s0E4t"
      }
    },
    {
      "cell_type": "markdown",
      "source": [
        "# Постановка задачи"
      ],
      "metadata": {
        "id": "qb_6II-GIx9K"
      }
    },
    {
      "cell_type": "markdown",
      "source": [
        "Предлагается собрать информацию с действующего сайта розничных продаж в одной из категории товаров и провести анализ ценовой политики компании на предмет наличия ценовых сегментов. В случае их обнаружения проверить гипотезы о принадлежности различных вендоров к тем или иным ценовым сегментам, а также подтвердить предположение, что в ядре ценовых сегментов находятся наиболее популярные товары. Популярность товара будет определяться по его рейтингу и количеству вопросов, заданных аудитории сайта.\n",
        "\n",
        "В качестве источника данных будет использован сайт сети магазинов DNS. В качестве группы товаров будут рассмотрены компьютерные видеокарты."
      ],
      "metadata": {
        "id": "Pm-NiQwlJk5k"
      }
    },
    {
      "cell_type": "markdown",
      "source": [
        "#**Скрейпинг сайта**"
      ],
      "metadata": {
        "id": "FOJxmOEUI5dZ"
      }
    },
    {
      "cell_type": "markdown",
      "source": [
        "Поскольку сайт компании DNS является динамическим, для его скрейпинга будем применять бибилиотеку `Selenium`.\n",
        "\n",
        "Вначале произведем установку бибилиотеки в среде Google Colaboratory."
      ],
      "metadata": {
        "id": "mcFgEyDgK5Wr"
      }
    },
    {
      "cell_type": "code",
      "source": [
        "!pip install selenium\n",
        "# !apt-get update # to update ubuntu to correctly run apt install\n",
        "!apt install chromium-chromedriver\n",
        "!cp /usr/lib/chromium-browser/chromedriver /usr/bin\n",
        "import sys\n",
        "sys.path.insert(0,'/usr/lib/chromium-browser/chromedriver')"
      ],
      "metadata": {
        "id": "zTLegexCATT5",
        "colab": {
          "base_uri": "https://localhost:8080/"
        },
        "outputId": "2570e1c9-a878-4f67-efbf-48eb19ee1f0d"
      },
      "execution_count": null,
      "outputs": [
        {
          "output_type": "stream",
          "name": "stdout",
          "text": [
            "Looking in indexes: https://pypi.org/simple, https://us-python.pkg.dev/colab-wheels/public/simple/\n",
            "Collecting selenium\n",
            "  Downloading selenium-4.5.0-py3-none-any.whl (995 kB)\n",
            "\u001b[K     |████████████████████████████████| 995 kB 5.2 MB/s \n",
            "\u001b[?25hCollecting trio-websocket~=0.9\n",
            "  Downloading trio_websocket-0.9.2-py3-none-any.whl (16 kB)\n",
            "Requirement already satisfied: certifi>=2021.10.8 in /usr/local/lib/python3.7/dist-packages (from selenium) (2022.9.24)\n",
            "Collecting trio~=0.17\n",
            "  Downloading trio-0.22.0-py3-none-any.whl (384 kB)\n",
            "\u001b[K     |████████████████████████████████| 384 kB 37.8 MB/s \n",
            "\u001b[?25hCollecting urllib3[socks]~=1.26\n",
            "  Downloading urllib3-1.26.12-py2.py3-none-any.whl (140 kB)\n",
            "\u001b[K     |████████████████████████████████| 140 kB 65.9 MB/s \n",
            "\u001b[?25hRequirement already satisfied: idna in /usr/local/lib/python3.7/dist-packages (from trio~=0.17->selenium) (2.10)\n",
            "Requirement already satisfied: sortedcontainers in /usr/local/lib/python3.7/dist-packages (from trio~=0.17->selenium) (2.4.0)\n",
            "Requirement already satisfied: attrs>=19.2.0 in /usr/local/lib/python3.7/dist-packages (from trio~=0.17->selenium) (22.1.0)\n",
            "Collecting outcome\n",
            "  Downloading outcome-1.2.0-py2.py3-none-any.whl (9.7 kB)\n",
            "Collecting async-generator>=1.9\n",
            "  Downloading async_generator-1.10-py3-none-any.whl (18 kB)\n",
            "Collecting exceptiongroup>=1.0.0rc9\n",
            "  Downloading exceptiongroup-1.0.0rc9-py3-none-any.whl (12 kB)\n",
            "Collecting sniffio\n",
            "  Downloading sniffio-1.3.0-py3-none-any.whl (10 kB)\n",
            "Collecting wsproto>=0.14\n",
            "  Downloading wsproto-1.2.0-py3-none-any.whl (24 kB)\n",
            "Requirement already satisfied: PySocks!=1.5.7,<2.0,>=1.5.6 in /usr/local/lib/python3.7/dist-packages (from urllib3[socks]~=1.26->selenium) (1.7.1)\n",
            "Collecting h11<1,>=0.9.0\n",
            "  Downloading h11-0.14.0-py3-none-any.whl (58 kB)\n",
            "\u001b[K     |████████████████████████████████| 58 kB 5.1 MB/s \n",
            "\u001b[?25hRequirement already satisfied: typing-extensions in /usr/local/lib/python3.7/dist-packages (from h11<1,>=0.9.0->wsproto>=0.14->trio-websocket~=0.9->selenium) (4.1.1)\n",
            "Installing collected packages: sniffio, outcome, h11, exceptiongroup, async-generator, wsproto, urllib3, trio, trio-websocket, selenium\n",
            "  Attempting uninstall: urllib3\n",
            "    Found existing installation: urllib3 1.24.3\n",
            "    Uninstalling urllib3-1.24.3:\n",
            "      Successfully uninstalled urllib3-1.24.3\n",
            "\u001b[31mERROR: pip's dependency resolver does not currently take into account all the packages that are installed. This behaviour is the source of the following dependency conflicts.\n",
            "requests 2.23.0 requires urllib3!=1.25.0,!=1.25.1,<1.26,>=1.21.1, but you have urllib3 1.26.12 which is incompatible.\u001b[0m\n",
            "Successfully installed async-generator-1.10 exceptiongroup-1.0.0rc9 h11-0.14.0 outcome-1.2.0 selenium-4.5.0 sniffio-1.3.0 trio-0.22.0 trio-websocket-0.9.2 urllib3-1.26.12 wsproto-1.2.0\n",
            "Reading package lists... Done\n",
            "Building dependency tree       \n",
            "Reading state information... Done\n",
            "The following package was automatically installed and is no longer required:\n",
            "  libnvidia-common-460\n",
            "Use 'apt autoremove' to remove it.\n",
            "The following additional packages will be installed:\n",
            "  chromium-browser chromium-browser-l10n chromium-codecs-ffmpeg-extra\n",
            "Suggested packages:\n",
            "  webaccounts-chromium-extension unity-chromium-extension\n",
            "The following NEW packages will be installed:\n",
            "  chromium-browser chromium-browser-l10n chromium-chromedriver\n",
            "  chromium-codecs-ffmpeg-extra\n",
            "0 upgraded, 4 newly installed, 0 to remove and 27 not upgraded.\n",
            "Need to get 91.7 MB of archives.\n",
            "After this operation, 309 MB of additional disk space will be used.\n",
            "Get:1 http://archive.ubuntu.com/ubuntu bionic-updates/universe amd64 chromium-codecs-ffmpeg-extra amd64 105.0.5195.102-0ubuntu0.18.04.1 [1,156 kB]\n",
            "Get:2 http://archive.ubuntu.com/ubuntu bionic-updates/universe amd64 chromium-browser amd64 105.0.5195.102-0ubuntu0.18.04.1 [80.1 MB]\n",
            "Get:3 http://archive.ubuntu.com/ubuntu bionic-updates/universe amd64 chromium-browser-l10n all 105.0.5195.102-0ubuntu0.18.04.1 [5,097 kB]\n",
            "Get:4 http://archive.ubuntu.com/ubuntu bionic-updates/universe amd64 chromium-chromedriver amd64 105.0.5195.102-0ubuntu0.18.04.1 [5,320 kB]\n",
            "Fetched 91.7 MB in 4s (23.5 MB/s)\n",
            "Selecting previously unselected package chromium-codecs-ffmpeg-extra.\n",
            "(Reading database ... 123942 files and directories currently installed.)\n",
            "Preparing to unpack .../chromium-codecs-ffmpeg-extra_105.0.5195.102-0ubuntu0.18.04.1_amd64.deb ...\n",
            "Unpacking chromium-codecs-ffmpeg-extra (105.0.5195.102-0ubuntu0.18.04.1) ...\n",
            "Selecting previously unselected package chromium-browser.\n",
            "Preparing to unpack .../chromium-browser_105.0.5195.102-0ubuntu0.18.04.1_amd64.deb ...\n",
            "Unpacking chromium-browser (105.0.5195.102-0ubuntu0.18.04.1) ...\n",
            "Selecting previously unselected package chromium-browser-l10n.\n",
            "Preparing to unpack .../chromium-browser-l10n_105.0.5195.102-0ubuntu0.18.04.1_all.deb ...\n",
            "Unpacking chromium-browser-l10n (105.0.5195.102-0ubuntu0.18.04.1) ...\n",
            "Selecting previously unselected package chromium-chromedriver.\n",
            "Preparing to unpack .../chromium-chromedriver_105.0.5195.102-0ubuntu0.18.04.1_amd64.deb ...\n",
            "Unpacking chromium-chromedriver (105.0.5195.102-0ubuntu0.18.04.1) ...\n",
            "Setting up chromium-codecs-ffmpeg-extra (105.0.5195.102-0ubuntu0.18.04.1) ...\n",
            "Setting up chromium-browser (105.0.5195.102-0ubuntu0.18.04.1) ...\n",
            "update-alternatives: using /usr/bin/chromium-browser to provide /usr/bin/x-www-browser (x-www-browser) in auto mode\n",
            "update-alternatives: using /usr/bin/chromium-browser to provide /usr/bin/gnome-www-browser (gnome-www-browser) in auto mode\n",
            "Setting up chromium-chromedriver (105.0.5195.102-0ubuntu0.18.04.1) ...\n",
            "Setting up chromium-browser-l10n (105.0.5195.102-0ubuntu0.18.04.1) ...\n",
            "Processing triggers for man-db (2.8.3-2ubuntu0.1) ...\n",
            "Processing triggers for hicolor-icon-theme (0.17-2) ...\n",
            "Processing triggers for mime-support (3.60ubuntu1) ...\n",
            "Processing triggers for libc-bin (2.27-3ubuntu1.6) ...\n",
            "cp: '/usr/lib/chromium-browser/chromedriver' and '/usr/bin/chromedriver' are the same file\n"
          ]
        }
      ]
    },
    {
      "cell_type": "markdown",
      "source": [
        "Далее осуществим импорт необходмых для работы библиотек и подготовим две процедуры - `init_driver()` и `paginator()`. Первая осущетсвляет запуск драйвера браузера Chrome с параметрами, необходимыми для стабильной работы в среде Colab. Вторая позволят перебрать все страницы выбранной группы товаров, находя на странице элемент `next_class`, извлекая из соответствующего элемента ссылку и переходя по ней."
      ],
      "metadata": {
        "id": "HFkIq1D7Lu0p"
      }
    },
    {
      "cell_type": "code",
      "source": [
        "from selenium import webdriver\n",
        "from selenium.webdriver.support.ui import WebDriverWait\n",
        "from selenium.webdriver.common.by import By\n",
        "from selenium.webdriver.support import expected_conditions as EC\n",
        "from selenium.common.exceptions import TimeoutException\n",
        "import pandas as pd\n",
        "\n",
        "def init_driver():\n",
        "    chrome_options = webdriver.ChromeOptions()\n",
        "    chrome_options.add_argument('--headless')\n",
        "    chrome_options.add_argument('--no-sandbox')\n",
        "    chrome_options.add_argument('--disable-dev-shm-usage')\n",
        "    driver = webdriver.Chrome('chromedriver',options=chrome_options)\n",
        "    driver.implicitly_wait(120)\n",
        "    driver.wait = WebDriverWait(driver, 20)\n",
        "    return driver\n",
        "\n",
        "def paginator(wd, path):\n",
        "    next_class = '.pagination-widget__page-link.pagination-widget__page-link_next'\n",
        "    try:    \n",
        "        wd.get(path)\n",
        "        yield wd\n",
        "        while True:\n",
        "            next_href = wd.find_element(By.CSS_SELECTOR, next_class)\\\n",
        "                .get_attribute('href')\n",
        "            wd.get(next_href)\n",
        "            yield wd\n",
        "    except:\n",
        "        pass  "
      ],
      "metadata": {
        "id": "VMY01DD9Os0q"
      },
      "execution_count": null,
      "outputs": []
    },
    {
      "cell_type": "markdown",
      "source": [
        "Теперь напишем процедуру скрейпинга, собирающую данные о следующих параметрах:\n",
        "\n",
        "|Параметр|Описание|\n",
        "|--:|:--|\n",
        "|**Price**|Стоиимость единицы товара|\n",
        "|**Rating**|Покупательский рейтинг товара|\n",
        "|**Elect**|Количество проголосовавших за товар покупателей|\n",
        "|**Vendor Model**|Описание товара, содержащее его производителя и модель|"
      ],
      "metadata": {
        "id": "APuddedaM01z"
      }
    },
    {
      "cell_type": "code",
      "source": [
        "def dns_scraper(wd, scrapdata):\n",
        "    elems = wd.find_elements(By.XPATH,'//div[@data-id=\"product\"]')\n",
        "    for e in elems:\n",
        "        e.wait = WebDriverWait(e, 20)\n",
        "        price = e.wait.until(EC.presence_of_element_located(\n",
        "            (By.CSS_SELECTOR,'.product-buy__price')))\n",
        "        model = e.wait.until(EC.presence_of_element_located(\n",
        "            (By.CSS_SELECTOR,'.catalog-product__name')))\n",
        "        rating = e.wait.until(EC.presence_of_element_located(\n",
        "            (By.CSS_SELECTOR,'.catalog-product__rating')))\n",
        "        scrapdata.append([price.text, model.text, rating.text,\n",
        "                          rating.get_attribute('data-rating')])"
      ],
      "metadata": {
        "id": "VaJV8MVS_S4b"
      },
      "execution_count": null,
      "outputs": []
    },
    {
      "cell_type": "markdown",
      "source": [
        "Запустим код скрейпера на выбранной странице категорий товаров. Данные соберем в python-список для последующей обработки."
      ],
      "metadata": {
        "id": "L5f08T7ANWCT"
      }
    },
    {
      "cell_type": "code",
      "source": [
        "lnk = 'https://www.dns-shop.ru/catalog/17a89aab16404e77/videokarty/'\n",
        "scrapdata = []\n",
        "\n",
        "wd = init_driver()\n",
        "for wdd in paginator(wd, lnk):\n",
        "    dns_scraper(wdd, scrapdata)\n",
        "wd.close()"
      ],
      "metadata": {
        "id": "tsnmzuXpNepu"
      },
      "execution_count": null,
      "outputs": []
    },
    {
      "cell_type": "markdown",
      "source": [
        "Преобразуем полученые данные в датафрейм. Сохраним результат для последующего использования."
      ],
      "metadata": {
        "id": "Tx0YGdy5O2bR"
      }
    },
    {
      "cell_type": "code",
      "source": [
        "df_read = pd.DataFrame(scrapdata,\n",
        "                  columns = ['Price', 'Vendor Model', 'Elect', 'Rating'])\n",
        "df_read.to_csv('scrapdata.csv', index=False)"
      ],
      "metadata": {
        "id": "PUuQnNATsr2m"
      },
      "execution_count": null,
      "outputs": []
    },
    {
      "cell_type": "markdown",
      "source": [
        "#Скрейпинг сайта. Выводы\n",
        "Собраны следующие данные:\n",
        "\n",
        "|Параметр|Описание|\n",
        "|--:|:--|\n",
        "|**Price**|Стоиимость единицы товара|\n",
        "|**Rating**|Покупательский рейтинг товара|\n",
        "|**Elect**|Количество проголосовавших за товар покупателей|\n",
        "|**Vendor Model**|Описание товара, содержащее его производителя и модель|\n",
        "\n",
        "- Результаты сохранены в файл `scrapdata.csv`"
      ],
      "metadata": {
        "id": "JrlcmZldqrpb"
      }
    },
    {
      "cell_type": "code",
      "source": [
        "df_read"
      ],
      "metadata": {
        "colab": {
          "base_uri": "https://localhost:8080/",
          "height": 424
        },
        "id": "YtIbluBkqyRu",
        "outputId": "4acb7222-c24c-4f3d-d1ba-1c49c027aa06"
      },
      "execution_count": null,
      "outputs": [
        {
          "output_type": "execute_result",
          "data": {
            "text/plain": [
              "         Price                                       Vendor Model  \\\n",
              "0      3 799 ₽  Видеокарта PowerColor AMD Radeon R7 240 [AXR7 ...   \n",
              "1      4 099 ₽  Видеокарта KFA2 GeForce GT 710 PASSIVE [71GGF4...   \n",
              "2      4 099 ₽  Видеокарта Palit GeForce GT 710 Silent LP [NEA...   \n",
              "3      4 699 ₽  Видеокарта KFA2 GeForce GT 730 [70NPF4HX003K] ...   \n",
              "4      4 699 ₽  Видеокарта Palit GeForce GT 730 Silent LP [NEA...   \n",
              "..         ...                                                ...   \n",
              "277  139 999 ₽  Видеокарта GIGABYTE AORUS GeForce RTX 3080 Ti ...   \n",
              "278  155 999 ₽  Видеокарта PNY Quadro RTX A4000 [VCNRTXA4000-P...   \n",
              "279  201 999 ₽  Видеокарта PNY Tesla T4 [TCST4M-PB] [PCI-E, 16...   \n",
              "280  269 999 ₽  Видеокарта PNY Quadro RTX A5000 [VCNRTXA5000-P...   \n",
              "281  337 999 ₽  Видеокарта PNY Quadro RTX 6000 [VCQRTX6000-PB]...   \n",
              "\n",
              "           Elect Rating  \n",
              "0             99      4  \n",
              "1             50      4  \n",
              "2            187    4.5  \n",
              "3             40    4.5  \n",
              "4             46    4.5  \n",
              "..           ...    ...  \n",
              "277  нет отзывов      0  \n",
              "278            2      5  \n",
              "279            2      2  \n",
              "280            2      3  \n",
              "281           15      4  \n",
              "\n",
              "[282 rows x 4 columns]"
            ],
            "text/html": [
              "\n",
              "  <div id=\"df-7e56260a-0ce8-474d-963c-42f7cf01fe44\">\n",
              "    <div class=\"colab-df-container\">\n",
              "      <div>\n",
              "<style scoped>\n",
              "    .dataframe tbody tr th:only-of-type {\n",
              "        vertical-align: middle;\n",
              "    }\n",
              "\n",
              "    .dataframe tbody tr th {\n",
              "        vertical-align: top;\n",
              "    }\n",
              "\n",
              "    .dataframe thead th {\n",
              "        text-align: right;\n",
              "    }\n",
              "</style>\n",
              "<table border=\"1\" class=\"dataframe\">\n",
              "  <thead>\n",
              "    <tr style=\"text-align: right;\">\n",
              "      <th></th>\n",
              "      <th>Price</th>\n",
              "      <th>Vendor Model</th>\n",
              "      <th>Elect</th>\n",
              "      <th>Rating</th>\n",
              "    </tr>\n",
              "  </thead>\n",
              "  <tbody>\n",
              "    <tr>\n",
              "      <th>0</th>\n",
              "      <td>3 799 ₽</td>\n",
              "      <td>Видеокарта PowerColor AMD Radeon R7 240 [AXR7 ...</td>\n",
              "      <td>99</td>\n",
              "      <td>4</td>\n",
              "    </tr>\n",
              "    <tr>\n",
              "      <th>1</th>\n",
              "      <td>4 099 ₽</td>\n",
              "      <td>Видеокарта KFA2 GeForce GT 710 PASSIVE [71GGF4...</td>\n",
              "      <td>50</td>\n",
              "      <td>4</td>\n",
              "    </tr>\n",
              "    <tr>\n",
              "      <th>2</th>\n",
              "      <td>4 099 ₽</td>\n",
              "      <td>Видеокарта Palit GeForce GT 710 Silent LP [NEA...</td>\n",
              "      <td>187</td>\n",
              "      <td>4.5</td>\n",
              "    </tr>\n",
              "    <tr>\n",
              "      <th>3</th>\n",
              "      <td>4 699 ₽</td>\n",
              "      <td>Видеокарта KFA2 GeForce GT 730 [70NPF4HX003K] ...</td>\n",
              "      <td>40</td>\n",
              "      <td>4.5</td>\n",
              "    </tr>\n",
              "    <tr>\n",
              "      <th>4</th>\n",
              "      <td>4 699 ₽</td>\n",
              "      <td>Видеокарта Palit GeForce GT 730 Silent LP [NEA...</td>\n",
              "      <td>46</td>\n",
              "      <td>4.5</td>\n",
              "    </tr>\n",
              "    <tr>\n",
              "      <th>...</th>\n",
              "      <td>...</td>\n",
              "      <td>...</td>\n",
              "      <td>...</td>\n",
              "      <td>...</td>\n",
              "    </tr>\n",
              "    <tr>\n",
              "      <th>277</th>\n",
              "      <td>139 999 ₽</td>\n",
              "      <td>Видеокарта GIGABYTE AORUS GeForce RTX 3080 Ti ...</td>\n",
              "      <td>нет отзывов</td>\n",
              "      <td>0</td>\n",
              "    </tr>\n",
              "    <tr>\n",
              "      <th>278</th>\n",
              "      <td>155 999 ₽</td>\n",
              "      <td>Видеокарта PNY Quadro RTX A4000 [VCNRTXA4000-P...</td>\n",
              "      <td>2</td>\n",
              "      <td>5</td>\n",
              "    </tr>\n",
              "    <tr>\n",
              "      <th>279</th>\n",
              "      <td>201 999 ₽</td>\n",
              "      <td>Видеокарта PNY Tesla T4 [TCST4M-PB] [PCI-E, 16...</td>\n",
              "      <td>2</td>\n",
              "      <td>2</td>\n",
              "    </tr>\n",
              "    <tr>\n",
              "      <th>280</th>\n",
              "      <td>269 999 ₽</td>\n",
              "      <td>Видеокарта PNY Quadro RTX A5000 [VCNRTXA5000-P...</td>\n",
              "      <td>2</td>\n",
              "      <td>3</td>\n",
              "    </tr>\n",
              "    <tr>\n",
              "      <th>281</th>\n",
              "      <td>337 999 ₽</td>\n",
              "      <td>Видеокарта PNY Quadro RTX 6000 [VCQRTX6000-PB]...</td>\n",
              "      <td>15</td>\n",
              "      <td>4</td>\n",
              "    </tr>\n",
              "  </tbody>\n",
              "</table>\n",
              "<p>282 rows × 4 columns</p>\n",
              "</div>\n",
              "      <button class=\"colab-df-convert\" onclick=\"convertToInteractive('df-7e56260a-0ce8-474d-963c-42f7cf01fe44')\"\n",
              "              title=\"Convert this dataframe to an interactive table.\"\n",
              "              style=\"display:none;\">\n",
              "        \n",
              "  <svg xmlns=\"http://www.w3.org/2000/svg\" height=\"24px\"viewBox=\"0 0 24 24\"\n",
              "       width=\"24px\">\n",
              "    <path d=\"M0 0h24v24H0V0z\" fill=\"none\"/>\n",
              "    <path d=\"M18.56 5.44l.94 2.06.94-2.06 2.06-.94-2.06-.94-.94-2.06-.94 2.06-2.06.94zm-11 1L8.5 8.5l.94-2.06 2.06-.94-2.06-.94L8.5 2.5l-.94 2.06-2.06.94zm10 10l.94 2.06.94-2.06 2.06-.94-2.06-.94-.94-2.06-.94 2.06-2.06.94z\"/><path d=\"M17.41 7.96l-1.37-1.37c-.4-.4-.92-.59-1.43-.59-.52 0-1.04.2-1.43.59L10.3 9.45l-7.72 7.72c-.78.78-.78 2.05 0 2.83L4 21.41c.39.39.9.59 1.41.59.51 0 1.02-.2 1.41-.59l7.78-7.78 2.81-2.81c.8-.78.8-2.07 0-2.86zM5.41 20L4 18.59l7.72-7.72 1.47 1.35L5.41 20z\"/>\n",
              "  </svg>\n",
              "      </button>\n",
              "      \n",
              "  <style>\n",
              "    .colab-df-container {\n",
              "      display:flex;\n",
              "      flex-wrap:wrap;\n",
              "      gap: 12px;\n",
              "    }\n",
              "\n",
              "    .colab-df-convert {\n",
              "      background-color: #E8F0FE;\n",
              "      border: none;\n",
              "      border-radius: 50%;\n",
              "      cursor: pointer;\n",
              "      display: none;\n",
              "      fill: #1967D2;\n",
              "      height: 32px;\n",
              "      padding: 0 0 0 0;\n",
              "      width: 32px;\n",
              "    }\n",
              "\n",
              "    .colab-df-convert:hover {\n",
              "      background-color: #E2EBFA;\n",
              "      box-shadow: 0px 1px 2px rgba(60, 64, 67, 0.3), 0px 1px 3px 1px rgba(60, 64, 67, 0.15);\n",
              "      fill: #174EA6;\n",
              "    }\n",
              "\n",
              "    [theme=dark] .colab-df-convert {\n",
              "      background-color: #3B4455;\n",
              "      fill: #D2E3FC;\n",
              "    }\n",
              "\n",
              "    [theme=dark] .colab-df-convert:hover {\n",
              "      background-color: #434B5C;\n",
              "      box-shadow: 0px 1px 3px 1px rgba(0, 0, 0, 0.15);\n",
              "      filter: drop-shadow(0px 1px 2px rgba(0, 0, 0, 0.3));\n",
              "      fill: #FFFFFF;\n",
              "    }\n",
              "  </style>\n",
              "\n",
              "      <script>\n",
              "        const buttonEl =\n",
              "          document.querySelector('#df-7e56260a-0ce8-474d-963c-42f7cf01fe44 button.colab-df-convert');\n",
              "        buttonEl.style.display =\n",
              "          google.colab.kernel.accessAllowed ? 'block' : 'none';\n",
              "\n",
              "        async function convertToInteractive(key) {\n",
              "          const element = document.querySelector('#df-7e56260a-0ce8-474d-963c-42f7cf01fe44');\n",
              "          const dataTable =\n",
              "            await google.colab.kernel.invokeFunction('convertToInteractive',\n",
              "                                                     [key], {});\n",
              "          if (!dataTable) return;\n",
              "\n",
              "          const docLinkHtml = 'Like what you see? Visit the ' +\n",
              "            '<a target=\"_blank\" href=https://colab.research.google.com/notebooks/data_table.ipynb>data table notebook</a>'\n",
              "            + ' to learn more about interactive tables.';\n",
              "          element.innerHTML = '';\n",
              "          dataTable['output_type'] = 'display_data';\n",
              "          await google.colab.output.renderOutput(dataTable, element);\n",
              "          const docLink = document.createElement('div');\n",
              "          docLink.innerHTML = docLinkHtml;\n",
              "          element.appendChild(docLink);\n",
              "        }\n",
              "      </script>\n",
              "    </div>\n",
              "  </div>\n",
              "  "
            ]
          },
          "metadata": {},
          "execution_count": 32
        }
      ]
    },
    {
      "cell_type": "markdown",
      "source": [
        "#**Предобработка**"
      ],
      "metadata": {
        "id": "DBDyNjWQI95G"
      }
    },
    {
      "cell_type": "code",
      "source": [
        "import pandas as pd\n",
        "import matplotlib.pyplot as plt\n",
        "import seaborn as sns\n",
        "import numpy as np"
      ],
      "metadata": {
        "id": "9k6MKu7bzVFQ"
      },
      "execution_count": null,
      "outputs": []
    },
    {
      "cell_type": "markdown",
      "source": [
        "Необходимые функции предобработки:"
      ],
      "metadata": {
        "id": "qzeQlVR0Eu3t"
      }
    },
    {
      "cell_type": "code",
      "source": [
        "# --Оценка пропусков\n",
        "def pred_na_fit(df):\n",
        "    A = df.isna()\n",
        "    V = A.iloc[:, 0]\n",
        "    for name, B in A.iteritems():\n",
        "            V = V | B\n",
        "    percent_na = V.value_counts()[True]/V.value_counts().sum()\n",
        "    return V, percent_na\n",
        "# --Удаление пропусков\n",
        "def pred_na_clear(df, V):\n",
        "    return df.loc[~V]"
      ],
      "metadata": {
        "id": "KGcUrTcME1Oo"
      },
      "execution_count": null,
      "outputs": []
    },
    {
      "cell_type": "markdown",
      "source": [
        "Проанализируем полученный датасет по следующему плану:\n",
        "1. Единый формат заголовков\n",
        "2. Приведение типов\n",
        "3. Пропуски\n",
        "4. Дубли\n",
        "5. Семантика параметров, взаимосвязи\n",
        "6. Единообразное написание категориальных параметров"
      ],
      "metadata": {
        "id": "reEnN98-3URD"
      }
    },
    {
      "cell_type": "code",
      "source": [
        "df = pd.read_csv('scrapdata.csv')\n",
        "df.head()"
      ],
      "metadata": {
        "colab": {
          "base_uri": "https://localhost:8080/"
        },
        "id": "CqqsAf-_5AhA",
        "outputId": "76a13f7f-1e66-423c-d23c-c538fcb73480"
      },
      "execution_count": null,
      "outputs": [
        {
          "output_type": "execute_result",
          "data": {
            "text/plain": [
              "      Price                                       Vendor Model Elect  Rating\n",
              "0   3 399 ₽  Видеокарта PowerColor AMD Radeon R7 240 [AXR7 ...    98     4.0\n",
              "1   3 999 ₽  Видеокарта KFA2 GeForce GT 730 [70NPF4HX003K] ...    40     4.5\n",
              "2   4 099 ₽  Видеокарта KFA2 GeForce GT 710 PASSIVE [71GGF4...    49     4.0\n",
              "3   4 099 ₽  Видеокарта Palit GeForce GT 710 Silent LP [NEA...   187     4.5\n",
              "4  12 999 ₽  Видеокарта GIGABYTE GeForce GTX 1630 OC Low Pr...     4     3.5"
            ],
            "text/html": [
              "\n",
              "  <div id=\"df-b192295e-35c4-4973-b289-f6349ff5742e\">\n",
              "    <div class=\"colab-df-container\">\n",
              "      <div>\n",
              "<style scoped>\n",
              "    .dataframe tbody tr th:only-of-type {\n",
              "        vertical-align: middle;\n",
              "    }\n",
              "\n",
              "    .dataframe tbody tr th {\n",
              "        vertical-align: top;\n",
              "    }\n",
              "\n",
              "    .dataframe thead th {\n",
              "        text-align: right;\n",
              "    }\n",
              "</style>\n",
              "<table border=\"1\" class=\"dataframe\">\n",
              "  <thead>\n",
              "    <tr style=\"text-align: right;\">\n",
              "      <th></th>\n",
              "      <th>Price</th>\n",
              "      <th>Vendor Model</th>\n",
              "      <th>Elect</th>\n",
              "      <th>Rating</th>\n",
              "    </tr>\n",
              "  </thead>\n",
              "  <tbody>\n",
              "    <tr>\n",
              "      <th>0</th>\n",
              "      <td>3 399 ₽</td>\n",
              "      <td>Видеокарта PowerColor AMD Radeon R7 240 [AXR7 ...</td>\n",
              "      <td>98</td>\n",
              "      <td>4.0</td>\n",
              "    </tr>\n",
              "    <tr>\n",
              "      <th>1</th>\n",
              "      <td>3 999 ₽</td>\n",
              "      <td>Видеокарта KFA2 GeForce GT 730 [70NPF4HX003K] ...</td>\n",
              "      <td>40</td>\n",
              "      <td>4.5</td>\n",
              "    </tr>\n",
              "    <tr>\n",
              "      <th>2</th>\n",
              "      <td>4 099 ₽</td>\n",
              "      <td>Видеокарта KFA2 GeForce GT 710 PASSIVE [71GGF4...</td>\n",
              "      <td>49</td>\n",
              "      <td>4.0</td>\n",
              "    </tr>\n",
              "    <tr>\n",
              "      <th>3</th>\n",
              "      <td>4 099 ₽</td>\n",
              "      <td>Видеокарта Palit GeForce GT 710 Silent LP [NEA...</td>\n",
              "      <td>187</td>\n",
              "      <td>4.5</td>\n",
              "    </tr>\n",
              "    <tr>\n",
              "      <th>4</th>\n",
              "      <td>12 999 ₽</td>\n",
              "      <td>Видеокарта GIGABYTE GeForce GTX 1630 OC Low Pr...</td>\n",
              "      <td>4</td>\n",
              "      <td>3.5</td>\n",
              "    </tr>\n",
              "  </tbody>\n",
              "</table>\n",
              "</div>\n",
              "      <button class=\"colab-df-convert\" onclick=\"convertToInteractive('df-b192295e-35c4-4973-b289-f6349ff5742e')\"\n",
              "              title=\"Convert this dataframe to an interactive table.\"\n",
              "              style=\"display:none;\">\n",
              "        \n",
              "  <svg xmlns=\"http://www.w3.org/2000/svg\" height=\"24px\"viewBox=\"0 0 24 24\"\n",
              "       width=\"24px\">\n",
              "    <path d=\"M0 0h24v24H0V0z\" fill=\"none\"/>\n",
              "    <path d=\"M18.56 5.44l.94 2.06.94-2.06 2.06-.94-2.06-.94-.94-2.06-.94 2.06-2.06.94zm-11 1L8.5 8.5l.94-2.06 2.06-.94-2.06-.94L8.5 2.5l-.94 2.06-2.06.94zm10 10l.94 2.06.94-2.06 2.06-.94-2.06-.94-.94-2.06-.94 2.06-2.06.94z\"/><path d=\"M17.41 7.96l-1.37-1.37c-.4-.4-.92-.59-1.43-.59-.52 0-1.04.2-1.43.59L10.3 9.45l-7.72 7.72c-.78.78-.78 2.05 0 2.83L4 21.41c.39.39.9.59 1.41.59.51 0 1.02-.2 1.41-.59l7.78-7.78 2.81-2.81c.8-.78.8-2.07 0-2.86zM5.41 20L4 18.59l7.72-7.72 1.47 1.35L5.41 20z\"/>\n",
              "  </svg>\n",
              "      </button>\n",
              "      \n",
              "  <style>\n",
              "    .colab-df-container {\n",
              "      display:flex;\n",
              "      flex-wrap:wrap;\n",
              "      gap: 12px;\n",
              "    }\n",
              "\n",
              "    .colab-df-convert {\n",
              "      background-color: #E8F0FE;\n",
              "      border: none;\n",
              "      border-radius: 50%;\n",
              "      cursor: pointer;\n",
              "      display: none;\n",
              "      fill: #1967D2;\n",
              "      height: 32px;\n",
              "      padding: 0 0 0 0;\n",
              "      width: 32px;\n",
              "    }\n",
              "\n",
              "    .colab-df-convert:hover {\n",
              "      background-color: #E2EBFA;\n",
              "      box-shadow: 0px 1px 2px rgba(60, 64, 67, 0.3), 0px 1px 3px 1px rgba(60, 64, 67, 0.15);\n",
              "      fill: #174EA6;\n",
              "    }\n",
              "\n",
              "    [theme=dark] .colab-df-convert {\n",
              "      background-color: #3B4455;\n",
              "      fill: #D2E3FC;\n",
              "    }\n",
              "\n",
              "    [theme=dark] .colab-df-convert:hover {\n",
              "      background-color: #434B5C;\n",
              "      box-shadow: 0px 1px 3px 1px rgba(0, 0, 0, 0.15);\n",
              "      filter: drop-shadow(0px 1px 2px rgba(0, 0, 0, 0.3));\n",
              "      fill: #FFFFFF;\n",
              "    }\n",
              "  </style>\n",
              "\n",
              "      <script>\n",
              "        const buttonEl =\n",
              "          document.querySelector('#df-b192295e-35c4-4973-b289-f6349ff5742e button.colab-df-convert');\n",
              "        buttonEl.style.display =\n",
              "          google.colab.kernel.accessAllowed ? 'block' : 'none';\n",
              "\n",
              "        async function convertToInteractive(key) {\n",
              "          const element = document.querySelector('#df-b192295e-35c4-4973-b289-f6349ff5742e');\n",
              "          const dataTable =\n",
              "            await google.colab.kernel.invokeFunction('convertToInteractive',\n",
              "                                                     [key], {});\n",
              "          if (!dataTable) return;\n",
              "\n",
              "          const docLinkHtml = 'Like what you see? Visit the ' +\n",
              "            '<a target=\"_blank\" href=https://colab.research.google.com/notebooks/data_table.ipynb>data table notebook</a>'\n",
              "            + ' to learn more about interactive tables.';\n",
              "          element.innerHTML = '';\n",
              "          dataTable['output_type'] = 'display_data';\n",
              "          await google.colab.output.renderOutput(dataTable, element);\n",
              "          const docLink = document.createElement('div');\n",
              "          docLink.innerHTML = docLinkHtml;\n",
              "          element.appendChild(docLink);\n",
              "        }\n",
              "      </script>\n",
              "    </div>\n",
              "  </div>\n",
              "  "
            ]
          },
          "metadata": {},
          "execution_count": 319
        }
      ]
    },
    {
      "cell_type": "code",
      "source": [
        "df.info()"
      ],
      "metadata": {
        "id": "3_lex9_H9ELM",
        "colab": {
          "base_uri": "https://localhost:8080/"
        },
        "outputId": "5a24786f-1b7c-4834-ea7c-31dc4f9d5616"
      },
      "execution_count": null,
      "outputs": [
        {
          "output_type": "stream",
          "name": "stdout",
          "text": [
            "<class 'pandas.core.frame.DataFrame'>\n",
            "RangeIndex: 273 entries, 0 to 272\n",
            "Data columns (total 4 columns):\n",
            " #   Column        Non-Null Count  Dtype  \n",
            "---  ------        --------------  -----  \n",
            " 0   Price         268 non-null    object \n",
            " 1   Vendor Model  273 non-null    object \n",
            " 2   Elect         273 non-null    object \n",
            " 3   Rating        273 non-null    float64\n",
            "dtypes: float64(1), object(3)\n",
            "memory usage: 8.7+ KB\n"
          ]
        }
      ]
    },
    {
      "cell_type": "code",
      "source": [
        "'всего дублей: {}'.format(\n",
        "  df.duplicated().sum())"
      ],
      "metadata": {
        "colab": {
          "base_uri": "https://localhost:8080/"
        },
        "id": "8IjqVQzu9pA-",
        "outputId": "663ae484-db3a-4bf5-e28e-efe804d3a4b7"
      },
      "execution_count": null,
      "outputs": [
        {
          "output_type": "execute_result",
          "data": {
            "text/plain": [
              "'всего дублей: 0'"
            ],
            "application/vnd.google.colaboratory.intrinsic+json": {
              "type": "string"
            }
          },
          "metadata": {},
          "execution_count": 321
        }
      ]
    },
    {
      "cell_type": "markdown",
      "source": [
        "**Вывод по ходу исследования**\n",
        "\n",
        "1. Заголовки на английском языке содержат пробелы. Приведем их к строчным буквам и заменить пробелы на подчеркивания.\n",
        "2. Поля `Price` и `Elect` требуют приведения к числовой форме.\n",
        "3. Некоторые стобцы могут содержать пропуски (датасет меняется после очередного сеанса скрейпинга). Примем за допустимые 2% потерь от пропусков и при меньшем их количестве удалим сответствующие строки.\n",
        "4. Дублей не выявлено.\n",
        "5. Параметры `Price`, `Rating` и `Elect` являются интервальными. Остальные - категориальными.\n",
        "6. Предлагается выделить вендора из названий модели для последующего анализа в качестве категорияльной переменной."
      ],
      "metadata": {
        "id": "5Sg2BbKf9Amp"
      }
    },
    {
      "cell_type": "code",
      "source": [
        "# меняем заголовки\n",
        "new_columns = df.columns.str.lower().str.strip().str.replace(' ','_')\n",
        "df.columns = new_columns\n",
        "# приводим столбцы к числовой форме\n",
        "df['price']=pd.to_numeric(df['price'].replace(r'[^0-9]', '',regex=True))\n",
        "df['elect']=pd.to_numeric(df['elect'].replace(r'[^0-9]', '',regex=True))\n",
        "# выделим вендора и характеристики карты в отдельные столбцы\n",
        "df[['garb','vendor','model']] = df['vendor_model'].str.split(' ',2,expand=True)\n",
        "df.drop(columns=['garb','vendor_model'], inplace=True)\n",
        "# приведем названия вендоров к написанию заглавными буквами\n",
        "df.vendor = df.vendor.str.upper()\n",
        "df.info()"
      ],
      "metadata": {
        "id": "hdUYYvcCFwdM",
        "colab": {
          "base_uri": "https://localhost:8080/"
        },
        "outputId": "b6a15132-3e3d-4d82-ecd2-ba1a308f5b8e"
      },
      "execution_count": null,
      "outputs": [
        {
          "output_type": "stream",
          "name": "stdout",
          "text": [
            "<class 'pandas.core.frame.DataFrame'>\n",
            "RangeIndex: 273 entries, 0 to 272\n",
            "Data columns (total 5 columns):\n",
            " #   Column  Non-Null Count  Dtype  \n",
            "---  ------  --------------  -----  \n",
            " 0   price   268 non-null    float64\n",
            " 1   elect   250 non-null    float64\n",
            " 2   rating  273 non-null    float64\n",
            " 3   vendor  273 non-null    object \n",
            " 4   model   273 non-null    object \n",
            "dtypes: float64(3), object(2)\n",
            "memory usage: 10.8+ KB\n"
          ]
        }
      ]
    },
    {
      "cell_type": "markdown",
      "source": [
        "После приведения типов часть значений в полях `elect` и `price` получились Nan. Не будем восстанавливать эти значения, а отнесем к пропускам."
      ],
      "metadata": {
        "id": "5eoI0EWZwuvz"
      }
    },
    {
      "cell_type": "code",
      "source": [
        "# оценка количества пропусков\n",
        "V, per_na = pred_na_fit(df)\n",
        "print('Процент потерь от пропусков {:.2%}.'.format(per_na))"
      ],
      "metadata": {
        "colab": {
          "base_uri": "https://localhost:8080/"
        },
        "id": "efRp0XInz5Pu",
        "outputId": "5c356630-c9d3-4afa-9b9a-98475e05cd8d"
      },
      "execution_count": null,
      "outputs": [
        {
          "output_type": "stream",
          "name": "stdout",
          "text": [
            "Процент потерь от пропусков 10.26%.\n"
          ]
        }
      ]
    },
    {
      "cell_type": "markdown",
      "source": [
        "Несмотря на значительный процент пропусков, предлагается удалить их, поскольку отсутствие оценок и стоимости делает кластеризацию таких товаров бессмысленной."
      ],
      "metadata": {
        "id": "bo05h1GFe14e"
      }
    },
    {
      "cell_type": "code",
      "source": [
        "# удаление пропусков\n",
        "if per_na < 0.2:\n",
        "    df_pred = pred_na_clear(df, V)\n",
        "    print('Датасет очищен от пропусков.')\n",
        "else:\n",
        "    df_pred = df\n",
        "    print('Датасет остался без изменений.')"
      ],
      "metadata": {
        "colab": {
          "base_uri": "https://localhost:8080/"
        },
        "id": "nwV6a_7Ae3GI",
        "outputId": "0f5f5cf0-958a-43d2-cf1e-da11b41127d3"
      },
      "execution_count": null,
      "outputs": [
        {
          "output_type": "stream",
          "name": "stdout",
          "text": [
            "Датасет очищен от пропусков.\n"
          ]
        }
      ]
    },
    {
      "cell_type": "markdown",
      "source": [
        "#Предобработка. Выводы\n",
        "\n",
        "- Датасет удачно собран и приведен к рабочему виду\n",
        "- Дубли не обнаружены\n",
        "- Пропуски составили 7.8%"
      ],
      "metadata": {
        "id": "JD3fftuMHV5k"
      }
    },
    {
      "cell_type": "code",
      "source": [
        "df_pred"
      ],
      "metadata": {
        "colab": {
          "base_uri": "https://localhost:8080/",
          "height": 424
        },
        "id": "hSu6jgikHJTi",
        "outputId": "675e8c3e-0f5d-4969-f9de-fedb62b5c0be"
      },
      "execution_count": null,
      "outputs": [
        {
          "output_type": "execute_result",
          "data": {
            "text/plain": [
              "        price  elect  rating      vendor  \\\n",
              "0      3399.0   98.0     4.0  POWERCOLOR   \n",
              "1      3999.0   40.0     4.5        KFA2   \n",
              "2      4099.0   49.0     4.0        KFA2   \n",
              "3      4099.0  187.0     4.5       PALIT   \n",
              "4     12999.0    4.0     3.5    GIGABYTE   \n",
              "..        ...    ...     ...         ...   \n",
              "265  125999.0    7.0     5.0        KFA2   \n",
              "266  139499.0  208.0     4.5         MSI   \n",
              "268  155999.0    2.0     5.0         PNY   \n",
              "271  269999.0    2.0     3.0         PNY   \n",
              "272  337999.0   15.0     4.0         PNY   \n",
              "\n",
              "                                                 model  \n",
              "0    AMD Radeon R7 240 [AXR7 240 2GBD5-HLEV2] [PCI-...  \n",
              "1    GeForce GT 730 [70NPF4HX003K] [PCI-E 2.0, 2 ГБ...  \n",
              "2    GeForce GT 710 PASSIVE [71GGF4DC00WK] [PCI-E 2...  \n",
              "3    GeForce GT 710 Silent LP [NEAT7100HD46-2080H] ...  \n",
              "4    GeForce GTX 1630 OC Low Profile [GV-N1630OC-4G...  \n",
              "..                                                 ...  \n",
              "265  GeForce RTX 3090 TI HOF [39IXM5MD5ZEK] [PCI-E,...  \n",
              "266  GeForce RTX 3080 Ti GAMING X TRIO [RTX 3080 Ti...  \n",
              "268  Quadro RTX A4000 [VCNRTXA4000-PB] [PCI-E 4.0, ...  \n",
              "271  Quadro RTX A5000 [VCNRTXA5000-PB] [PCI-E 4.0, ...  \n",
              "272  Quadro RTX 6000 [VCQRTX6000-PB] [PCI-E 3.0, 24...  \n",
              "\n",
              "[245 rows x 5 columns]"
            ],
            "text/html": [
              "\n",
              "  <div id=\"df-9bb5fdf2-dacb-4573-8657-989bc6900f6c\">\n",
              "    <div class=\"colab-df-container\">\n",
              "      <div>\n",
              "<style scoped>\n",
              "    .dataframe tbody tr th:only-of-type {\n",
              "        vertical-align: middle;\n",
              "    }\n",
              "\n",
              "    .dataframe tbody tr th {\n",
              "        vertical-align: top;\n",
              "    }\n",
              "\n",
              "    .dataframe thead th {\n",
              "        text-align: right;\n",
              "    }\n",
              "</style>\n",
              "<table border=\"1\" class=\"dataframe\">\n",
              "  <thead>\n",
              "    <tr style=\"text-align: right;\">\n",
              "      <th></th>\n",
              "      <th>price</th>\n",
              "      <th>elect</th>\n",
              "      <th>rating</th>\n",
              "      <th>vendor</th>\n",
              "      <th>model</th>\n",
              "    </tr>\n",
              "  </thead>\n",
              "  <tbody>\n",
              "    <tr>\n",
              "      <th>0</th>\n",
              "      <td>3399.0</td>\n",
              "      <td>98.0</td>\n",
              "      <td>4.0</td>\n",
              "      <td>POWERCOLOR</td>\n",
              "      <td>AMD Radeon R7 240 [AXR7 240 2GBD5-HLEV2] [PCI-...</td>\n",
              "    </tr>\n",
              "    <tr>\n",
              "      <th>1</th>\n",
              "      <td>3999.0</td>\n",
              "      <td>40.0</td>\n",
              "      <td>4.5</td>\n",
              "      <td>KFA2</td>\n",
              "      <td>GeForce GT 730 [70NPF4HX003K] [PCI-E 2.0, 2 ГБ...</td>\n",
              "    </tr>\n",
              "    <tr>\n",
              "      <th>2</th>\n",
              "      <td>4099.0</td>\n",
              "      <td>49.0</td>\n",
              "      <td>4.0</td>\n",
              "      <td>KFA2</td>\n",
              "      <td>GeForce GT 710 PASSIVE [71GGF4DC00WK] [PCI-E 2...</td>\n",
              "    </tr>\n",
              "    <tr>\n",
              "      <th>3</th>\n",
              "      <td>4099.0</td>\n",
              "      <td>187.0</td>\n",
              "      <td>4.5</td>\n",
              "      <td>PALIT</td>\n",
              "      <td>GeForce GT 710 Silent LP [NEAT7100HD46-2080H] ...</td>\n",
              "    </tr>\n",
              "    <tr>\n",
              "      <th>4</th>\n",
              "      <td>12999.0</td>\n",
              "      <td>4.0</td>\n",
              "      <td>3.5</td>\n",
              "      <td>GIGABYTE</td>\n",
              "      <td>GeForce GTX 1630 OC Low Profile [GV-N1630OC-4G...</td>\n",
              "    </tr>\n",
              "    <tr>\n",
              "      <th>...</th>\n",
              "      <td>...</td>\n",
              "      <td>...</td>\n",
              "      <td>...</td>\n",
              "      <td>...</td>\n",
              "      <td>...</td>\n",
              "    </tr>\n",
              "    <tr>\n",
              "      <th>265</th>\n",
              "      <td>125999.0</td>\n",
              "      <td>7.0</td>\n",
              "      <td>5.0</td>\n",
              "      <td>KFA2</td>\n",
              "      <td>GeForce RTX 3090 TI HOF [39IXM5MD5ZEK] [PCI-E,...</td>\n",
              "    </tr>\n",
              "    <tr>\n",
              "      <th>266</th>\n",
              "      <td>139499.0</td>\n",
              "      <td>208.0</td>\n",
              "      <td>4.5</td>\n",
              "      <td>MSI</td>\n",
              "      <td>GeForce RTX 3080 Ti GAMING X TRIO [RTX 3080 Ti...</td>\n",
              "    </tr>\n",
              "    <tr>\n",
              "      <th>268</th>\n",
              "      <td>155999.0</td>\n",
              "      <td>2.0</td>\n",
              "      <td>5.0</td>\n",
              "      <td>PNY</td>\n",
              "      <td>Quadro RTX A4000 [VCNRTXA4000-PB] [PCI-E 4.0, ...</td>\n",
              "    </tr>\n",
              "    <tr>\n",
              "      <th>271</th>\n",
              "      <td>269999.0</td>\n",
              "      <td>2.0</td>\n",
              "      <td>3.0</td>\n",
              "      <td>PNY</td>\n",
              "      <td>Quadro RTX A5000 [VCNRTXA5000-PB] [PCI-E 4.0, ...</td>\n",
              "    </tr>\n",
              "    <tr>\n",
              "      <th>272</th>\n",
              "      <td>337999.0</td>\n",
              "      <td>15.0</td>\n",
              "      <td>4.0</td>\n",
              "      <td>PNY</td>\n",
              "      <td>Quadro RTX 6000 [VCQRTX6000-PB] [PCI-E 3.0, 24...</td>\n",
              "    </tr>\n",
              "  </tbody>\n",
              "</table>\n",
              "<p>245 rows × 5 columns</p>\n",
              "</div>\n",
              "      <button class=\"colab-df-convert\" onclick=\"convertToInteractive('df-9bb5fdf2-dacb-4573-8657-989bc6900f6c')\"\n",
              "              title=\"Convert this dataframe to an interactive table.\"\n",
              "              style=\"display:none;\">\n",
              "        \n",
              "  <svg xmlns=\"http://www.w3.org/2000/svg\" height=\"24px\"viewBox=\"0 0 24 24\"\n",
              "       width=\"24px\">\n",
              "    <path d=\"M0 0h24v24H0V0z\" fill=\"none\"/>\n",
              "    <path d=\"M18.56 5.44l.94 2.06.94-2.06 2.06-.94-2.06-.94-.94-2.06-.94 2.06-2.06.94zm-11 1L8.5 8.5l.94-2.06 2.06-.94-2.06-.94L8.5 2.5l-.94 2.06-2.06.94zm10 10l.94 2.06.94-2.06 2.06-.94-2.06-.94-.94-2.06-.94 2.06-2.06.94z\"/><path d=\"M17.41 7.96l-1.37-1.37c-.4-.4-.92-.59-1.43-.59-.52 0-1.04.2-1.43.59L10.3 9.45l-7.72 7.72c-.78.78-.78 2.05 0 2.83L4 21.41c.39.39.9.59 1.41.59.51 0 1.02-.2 1.41-.59l7.78-7.78 2.81-2.81c.8-.78.8-2.07 0-2.86zM5.41 20L4 18.59l7.72-7.72 1.47 1.35L5.41 20z\"/>\n",
              "  </svg>\n",
              "      </button>\n",
              "      \n",
              "  <style>\n",
              "    .colab-df-container {\n",
              "      display:flex;\n",
              "      flex-wrap:wrap;\n",
              "      gap: 12px;\n",
              "    }\n",
              "\n",
              "    .colab-df-convert {\n",
              "      background-color: #E8F0FE;\n",
              "      border: none;\n",
              "      border-radius: 50%;\n",
              "      cursor: pointer;\n",
              "      display: none;\n",
              "      fill: #1967D2;\n",
              "      height: 32px;\n",
              "      padding: 0 0 0 0;\n",
              "      width: 32px;\n",
              "    }\n",
              "\n",
              "    .colab-df-convert:hover {\n",
              "      background-color: #E2EBFA;\n",
              "      box-shadow: 0px 1px 2px rgba(60, 64, 67, 0.3), 0px 1px 3px 1px rgba(60, 64, 67, 0.15);\n",
              "      fill: #174EA6;\n",
              "    }\n",
              "\n",
              "    [theme=dark] .colab-df-convert {\n",
              "      background-color: #3B4455;\n",
              "      fill: #D2E3FC;\n",
              "    }\n",
              "\n",
              "    [theme=dark] .colab-df-convert:hover {\n",
              "      background-color: #434B5C;\n",
              "      box-shadow: 0px 1px 3px 1px rgba(0, 0, 0, 0.15);\n",
              "      filter: drop-shadow(0px 1px 2px rgba(0, 0, 0, 0.3));\n",
              "      fill: #FFFFFF;\n",
              "    }\n",
              "  </style>\n",
              "\n",
              "      <script>\n",
              "        const buttonEl =\n",
              "          document.querySelector('#df-9bb5fdf2-dacb-4573-8657-989bc6900f6c button.colab-df-convert');\n",
              "        buttonEl.style.display =\n",
              "          google.colab.kernel.accessAllowed ? 'block' : 'none';\n",
              "\n",
              "        async function convertToInteractive(key) {\n",
              "          const element = document.querySelector('#df-9bb5fdf2-dacb-4573-8657-989bc6900f6c');\n",
              "          const dataTable =\n",
              "            await google.colab.kernel.invokeFunction('convertToInteractive',\n",
              "                                                     [key], {});\n",
              "          if (!dataTable) return;\n",
              "\n",
              "          const docLinkHtml = 'Like what you see? Visit the ' +\n",
              "            '<a target=\"_blank\" href=https://colab.research.google.com/notebooks/data_table.ipynb>data table notebook</a>'\n",
              "            + ' to learn more about interactive tables.';\n",
              "          element.innerHTML = '';\n",
              "          dataTable['output_type'] = 'display_data';\n",
              "          await google.colab.output.renderOutput(dataTable, element);\n",
              "          const docLink = document.createElement('div');\n",
              "          docLink.innerHTML = docLinkHtml;\n",
              "          element.appendChild(docLink);\n",
              "        }\n",
              "      </script>\n",
              "    </div>\n",
              "  </div>\n",
              "  "
            ]
          },
          "metadata": {},
          "execution_count": 12
        }
      ]
    },
    {
      "cell_type": "markdown",
      "source": [
        "#**EDA**"
      ],
      "metadata": {
        "id": "WAKAIebVJGCQ"
      }
    },
    {
      "cell_type": "markdown",
      "source": [
        "Предполагается построение модели кластеризации, которая плохо работает с аномалиями и корреляционно связанными параметрами. Используемый метод DBSCAN не имеет особых предпочтений к датасету.\n",
        "Разведочный анализ проведем по следующему плану:\n",
        "1. Выявление аномалий\n",
        "2. Удаление аномалий\n",
        "3. Корреляции\n",
        "\n",
        "Данный план позволит избавиться от аномалий и оценить наличие сильно коррелирующих параметров."
      ],
      "metadata": {
        "id": "X1Pdr5S5hmdz"
      }
    },
    {
      "cell_type": "markdown",
      "source": [
        "Необходимые функции EDA:"
      ],
      "metadata": {
        "id": "48kzmPQuqG0c"
      }
    },
    {
      "cell_type": "code",
      "source": [
        "# --графики частот и усов\n",
        "def eda_anomal_plot(df, figsize):\n",
        "    fig, axes = plt.subplots(nrows = df.shape[1], ncols = 2,\n",
        "                             squeeze = False,\n",
        "                             figsize=figsize)\n",
        "    \n",
        "    plt.subplots_adjust(wspace=0.4, hspace=0.4)\n",
        "    it = iter(df.columns)\n",
        "    for ax in axes:\n",
        "        try:\n",
        "            rl = next(it)\n",
        "            ax[0].hist(df[rl], color = \"blue\", edgecolor='black',\n",
        "                       linewidth=1.2,\n",
        "                       bins = 50)\n",
        "            try:\n",
        "                sns.boxplot(data = df[rl], ax=ax[1], whis = 1.5, color = \"blue\")\n",
        "            except:\n",
        "                ax[1].text(0.5,0.5,'Неинтервальный параметр',\n",
        "                            horizontalalignment = 'center',\n",
        "                            verticalalignment = 'center',\n",
        "                            rotation = 45)\n",
        "            ax[0].tick_params(axis='x', labelrotation=90)\n",
        "            ax[0].set_title(rl, fontsize=8)\n",
        "            ax[0].set_xlabel(df[rl].name, fontsize=8)\n",
        "            ax[0].set_ylabel('Частота', fontsize=8)\n",
        "            ax[1].tick_params(axis='x', labelrotation=90)\n",
        "            ax[1].set_title(rl, fontsize=8)\n",
        "            ax[1].set_xlabel('Ящик с усами', fontsize=8)\n",
        "            ax[1].set_ylabel('Выбросы', fontsize=8)\n",
        "        except:\n",
        "            pass\n",
        "# --оценка аномалий интервальных параметров\n",
        "def eda_anomal_fit(df, frames):\n",
        "    A = np.array([False] * df.shape[0])\n",
        "    for fi, mar in frames.items():\n",
        "        B = (df[fi]<mar[0]) | (df[fi]>mar[1])\n",
        "        A = A | B\n",
        "    sh_old = df.shape[0]\n",
        "    sh_new = df.loc[~A].shape[0]\n",
        "    anomal = sh_old - sh_new\n",
        "    return A, anomal\n",
        "# --очистка аномалий интервальных параметров\n",
        "def eda_anomal_clear(df, M):\n",
        "    return df.loc[~M]\n",
        "#  --построение матрицы корреляций\n",
        "def eda_corr_matrix(df, figsize):\n",
        "    fig, ax = plt.subplots(figsize=(figsize,figsize))\n",
        "    ax = sns.heatmap(data = df.corr(), annot=True, square=True, \n",
        "            cmap='winter', fmt='.2f', linewidths=1, linecolor='black')\n",
        "    plt.title('Корреляционная матрица')\n",
        "    return"
      ],
      "metadata": {
        "id": "QOLOYhlnqLAr"
      },
      "execution_count": null,
      "outputs": []
    },
    {
      "cell_type": "markdown",
      "source": [
        "## Аномалии"
      ],
      "metadata": {
        "id": "kw8moQmbhmdz"
      }
    },
    {
      "cell_type": "markdown",
      "source": [
        "###Анализ интервальных параметров"
      ],
      "metadata": {
        "id": "yKUy1Qipl7P_"
      }
    },
    {
      "cell_type": "markdown",
      "source": [
        "Выберем интервальные параметры."
      ],
      "metadata": {
        "id": "h0TkUI-nmQWS"
      }
    },
    {
      "cell_type": "code",
      "source": [
        "df_inter = df_pred.select_dtypes(include='number')\n",
        "df_inter['price'].name = 'Cтоимости товаров'\n",
        "df_inter['elect'].name = 'Количество голосований'\n",
        "df_inter['rating'].name = 'Рейтинг товара'"
      ],
      "metadata": {
        "id": "kSC5cS2Thmdz"
      },
      "execution_count": null,
      "outputs": []
    },
    {
      "cell_type": "code",
      "source": [
        "eda_anomal_plot(df_inter,(10,15))"
      ],
      "metadata": {
        "colab": {
          "base_uri": "https://localhost:8080/"
        },
        "id": "O95jo1r4vw2h",
        "outputId": "b11afcaf-ca99-4d80-915b-5d80dc3ccdf0"
      },
      "execution_count": null,
      "outputs": [
        {
          "output_type": "display_data",
          "data": {
            "text/plain": [
              "<Figure size 720x1080 with 6 Axes>"
            ],
            "image/png": "[encoded data removed]"
          },
          "metadata": {
            "needs_background": "light"
          }
        }
      ]
    },
    {
      "cell_type": "markdown",
      "source": [
        "В случае кластеризации по методу DBSCAN, использующем принцип достижимости точек, аномалии будут увеличивать количество нераспознанных точек и их лучше сократить.\n",
        "\n",
        "Для всех интервальных параметров исключим аномалии исходя из описательных статистик, отраженных на графиках, и следующих соображений. Из-за наличия одного большого выброса в цене не видно частотное распределение параметра `price` (обнаружено при повторной итерации проверки аноломалий). Предлагается сразу опустить верхнюю границу отсечения, установив ее примерно равной 100 тыс. рублей, поскольку более дорогие товары присутствуют в единичных экземплярах. Поскольку выборка небольшая, предлагается минимально ограничивать параметр `elect`."
      ],
      "metadata": {
        "id": "EaiI52tthmd0"
      }
    },
    {
      "cell_type": "code",
      "source": [
        "M, anomal = eda_anomal_fit(df_inter,\n",
        "                            {'price':[0,1.e5],\n",
        "                             'elect':[0,800]})\n",
        "print('Количество аномальных наблюдений {:d}, что составляет {:.2%} от общего числа записей.'\n",
        "        .format(anomal, anomal/df_inter.shape[0]))"
      ],
      "metadata": {
        "colab": {
          "base_uri": "https://localhost:8080/"
        },
        "id": "bzM_7gfnnjO4",
        "outputId": "c3e666b9-67ea-4207-b9bf-e627091013ca"
      },
      "execution_count": null,
      "outputs": [
        {
          "output_type": "stream",
          "name": "stdout",
          "text": [
            "Количество аномальных наблюдений 11, что составляет 4.49% от общего числа записей.\n"
          ]
        }
      ]
    },
    {
      "cell_type": "markdown",
      "source": [
        "Потери данных в случае удаления аномалий приемлемые. Очищаем аномали."
      ],
      "metadata": {
        "id": "Q0dh6j4ypDex"
      }
    },
    {
      "cell_type": "code",
      "source": [
        "df_inter_noanomal = eda_anomal_clear(df_inter, M)"
      ],
      "metadata": {
        "id": "Q3OGHVAh7blY"
      },
      "execution_count": null,
      "outputs": []
    },
    {
      "cell_type": "code",
      "source": [
        "df_inter_noanomal['price'].name = 'Cтоимости товаров'\n",
        "df_inter_noanomal['elect'].name = 'Количество голосований'\n",
        "df_inter_noanomal['rating'].name = 'Рейтинг товара'\n",
        "eda_anomal_plot(df_inter_noanomal, (10,15))"
      ],
      "metadata": {
        "colab": {
          "base_uri": "https://localhost:8080/"
        },
        "id": "5CCQDxDHv7Sn",
        "outputId": "f4c47d23-e2c2-4938-dd74-aa0194b63ae1"
      },
      "execution_count": null,
      "outputs": [
        {
          "output_type": "display_data",
          "data": {
            "text/plain": [
              "<Figure size 720x1080 with 6 Axes>"
            ],
            "image/png": "[encoded data removed]"
          },
          "metadata": {
            "needs_background": "light"
          }
        }
      ]
    },
    {
      "cell_type": "markdown",
      "source": [
        "**Вывод по ходу исследования**\n",
        "\n",
        "Интервальные параметры не распределены по нормальному закону"
      ],
      "metadata": {
        "id": "BhHU2oqGucJY"
      }
    },
    {
      "cell_type": "markdown",
      "source": [
        "#### Корреляции интервальных параметров"
      ],
      "metadata": {
        "id": "GVHkUQNlhmd1"
      }
    },
    {
      "cell_type": "markdown",
      "source": [
        "Проверим наличие линейной зависимости между параметрами. Построим корреляционную матрицу."
      ],
      "metadata": {
        "id": "K15cMzMVhmd1"
      }
    },
    {
      "cell_type": "code",
      "source": [
        "eda_corr_matrix(df_inter_noanomal,8)"
      ],
      "metadata": {
        "colab": {
          "base_uri": "https://localhost:8080/"
        },
        "outputId": "13c0bc56-02e8-4cd6-caa7-f932e6c6eb5b",
        "id": "-T6kONYThmd1"
      },
      "execution_count": null,
      "outputs": [
        {
          "output_type": "display_data",
          "data": {
            "text/plain": [
              "<Figure size 576x576 with 2 Axes>"
            ],
            "image/png": "[encoded data removed]"
          },
          "metadata": {
            "needs_background": "light"
          }
        }
      ]
    },
    {
      "cell_type": "markdown",
      "source": [
        "**Вывод по ходу исследования**\n",
        "\n",
        "Цена и популярность товаров в выбранной категории находятся в слабой обратной линейной зависимости."
      ],
      "metadata": {
        "id": "u0qZbeWOhmd2"
      }
    },
    {
      "cell_type": "markdown",
      "source": [
        "###Анализ категориальных параметров"
      ],
      "metadata": {
        "id": "hy1-6Zj0_x3Z"
      }
    },
    {
      "cell_type": "markdown",
      "source": [
        "Изучим категориальный параметр `vendor`."
      ],
      "metadata": {
        "id": "sfqHan3AwR1w"
      }
    },
    {
      "cell_type": "code",
      "source": [
        "df_categ = df_pred[['vendor']]\n",
        "df_categ['vendor'].name = 'Название производителя'\n",
        "eda_anomal_plot(df_categ, (10,5))"
      ],
      "metadata": {
        "colab": {
          "base_uri": "https://localhost:8080/"
        },
        "id": "2m3T4zo4wegd",
        "outputId": "453799c7-0227-4c80-ae58-b454442dc28d"
      },
      "execution_count": null,
      "outputs": [
        {
          "output_type": "display_data",
          "data": {
            "text/plain": [
              "<Figure size 720x360 with 2 Axes>"
            ],
            "image/png": "[encoded data removed]"
          },
          "metadata": {
            "needs_background": "light"
          }
        }
      ]
    },
    {
      "cell_type": "markdown",
      "source": [
        "**Выводы по ходу исследования**\n",
        "- Категориальные параметры не имеют аномалий\n",
        "- Производители GIGABYTE и MSI имеют самую большую номенклатуру в выбранной категории товаров"
      ],
      "metadata": {
        "id": "CRhW90SY9hcR"
      }
    },
    {
      "cell_type": "markdown",
      "source": [
        "#EDA. Выводы\n",
        "- Популярность товаров в рассматриваемой категории растет с уменьшением их стоимости\n",
        "- Производители GIGABYTE и MSI имеют самую большую номенклатуру в выбранной категории товаров\n",
        "- Цена и популярность, а также цена и рейтинг товаров в выбранной категории находятся в слабой обратной линейной зависимости\n",
        "- Интервальные параметры не распределены по нормальному закону"
      ],
      "metadata": {
        "id": "N6q5qaX_tDNO"
      }
    },
    {
      "cell_type": "code",
      "source": [
        "df_inter_noanomal"
      ],
      "metadata": {
        "colab": {
          "base_uri": "https://localhost:8080/",
          "height": 424
        },
        "id": "NdXn8gFkv0yI",
        "outputId": "64afe85d-b1d2-422a-8de1-ccdad0c0dc01"
      },
      "execution_count": null,
      "outputs": [
        {
          "output_type": "execute_result",
          "data": {
            "text/plain": [
              "       price  elect  rating\n",
              "0     3399.0   98.0     4.0\n",
              "1     3999.0   40.0     4.5\n",
              "2     4099.0   49.0     4.0\n",
              "3     4099.0  187.0     4.5\n",
              "4    12999.0    4.0     3.5\n",
              "..       ...    ...     ...\n",
              "252  84999.0   30.0     4.5\n",
              "253  86999.0    1.0     5.0\n",
              "255  89299.0    4.0     4.0\n",
              "256  89999.0   57.0     4.5\n",
              "257  93999.0   12.0     4.5\n",
              "\n",
              "[234 rows x 3 columns]"
            ],
            "text/html": [
              "\n",
              "  <div id=\"df-6dba6f01-106d-4471-bc46-c243954de1d5\">\n",
              "    <div class=\"colab-df-container\">\n",
              "      <div>\n",
              "<style scoped>\n",
              "    .dataframe tbody tr th:only-of-type {\n",
              "        vertical-align: middle;\n",
              "    }\n",
              "\n",
              "    .dataframe tbody tr th {\n",
              "        vertical-align: top;\n",
              "    }\n",
              "\n",
              "    .dataframe thead th {\n",
              "        text-align: right;\n",
              "    }\n",
              "</style>\n",
              "<table border=\"1\" class=\"dataframe\">\n",
              "  <thead>\n",
              "    <tr style=\"text-align: right;\">\n",
              "      <th></th>\n",
              "      <th>price</th>\n",
              "      <th>elect</th>\n",
              "      <th>rating</th>\n",
              "    </tr>\n",
              "  </thead>\n",
              "  <tbody>\n",
              "    <tr>\n",
              "      <th>0</th>\n",
              "      <td>3399.0</td>\n",
              "      <td>98.0</td>\n",
              "      <td>4.0</td>\n",
              "    </tr>\n",
              "    <tr>\n",
              "      <th>1</th>\n",
              "      <td>3999.0</td>\n",
              "      <td>40.0</td>\n",
              "      <td>4.5</td>\n",
              "    </tr>\n",
              "    <tr>\n",
              "      <th>2</th>\n",
              "      <td>4099.0</td>\n",
              "      <td>49.0</td>\n",
              "      <td>4.0</td>\n",
              "    </tr>\n",
              "    <tr>\n",
              "      <th>3</th>\n",
              "      <td>4099.0</td>\n",
              "      <td>187.0</td>\n",
              "      <td>4.5</td>\n",
              "    </tr>\n",
              "    <tr>\n",
              "      <th>4</th>\n",
              "      <td>12999.0</td>\n",
              "      <td>4.0</td>\n",
              "      <td>3.5</td>\n",
              "    </tr>\n",
              "    <tr>\n",
              "      <th>...</th>\n",
              "      <td>...</td>\n",
              "      <td>...</td>\n",
              "      <td>...</td>\n",
              "    </tr>\n",
              "    <tr>\n",
              "      <th>252</th>\n",
              "      <td>84999.0</td>\n",
              "      <td>30.0</td>\n",
              "      <td>4.5</td>\n",
              "    </tr>\n",
              "    <tr>\n",
              "      <th>253</th>\n",
              "      <td>86999.0</td>\n",
              "      <td>1.0</td>\n",
              "      <td>5.0</td>\n",
              "    </tr>\n",
              "    <tr>\n",
              "      <th>255</th>\n",
              "      <td>89299.0</td>\n",
              "      <td>4.0</td>\n",
              "      <td>4.0</td>\n",
              "    </tr>\n",
              "    <tr>\n",
              "      <th>256</th>\n",
              "      <td>89999.0</td>\n",
              "      <td>57.0</td>\n",
              "      <td>4.5</td>\n",
              "    </tr>\n",
              "    <tr>\n",
              "      <th>257</th>\n",
              "      <td>93999.0</td>\n",
              "      <td>12.0</td>\n",
              "      <td>4.5</td>\n",
              "    </tr>\n",
              "  </tbody>\n",
              "</table>\n",
              "<p>234 rows × 3 columns</p>\n",
              "</div>\n",
              "      <button class=\"colab-df-convert\" onclick=\"convertToInteractive('df-6dba6f01-106d-4471-bc46-c243954de1d5')\"\n",
              "              title=\"Convert this dataframe to an interactive table.\"\n",
              "              style=\"display:none;\">\n",
              "        \n",
              "  <svg xmlns=\"http://www.w3.org/2000/svg\" height=\"24px\"viewBox=\"0 0 24 24\"\n",
              "       width=\"24px\">\n",
              "    <path d=\"M0 0h24v24H0V0z\" fill=\"none\"/>\n",
              "    <path d=\"M18.56 5.44l.94 2.06.94-2.06 2.06-.94-2.06-.94-.94-2.06-.94 2.06-2.06.94zm-11 1L8.5 8.5l.94-2.06 2.06-.94-2.06-.94L8.5 2.5l-.94 2.06-2.06.94zm10 10l.94 2.06.94-2.06 2.06-.94-2.06-.94-.94-2.06-.94 2.06-2.06.94z\"/><path d=\"M17.41 7.96l-1.37-1.37c-.4-.4-.92-.59-1.43-.59-.52 0-1.04.2-1.43.59L10.3 9.45l-7.72 7.72c-.78.78-.78 2.05 0 2.83L4 21.41c.39.39.9.59 1.41.59.51 0 1.02-.2 1.41-.59l7.78-7.78 2.81-2.81c.8-.78.8-2.07 0-2.86zM5.41 20L4 18.59l7.72-7.72 1.47 1.35L5.41 20z\"/>\n",
              "  </svg>\n",
              "      </button>\n",
              "      \n",
              "  <style>\n",
              "    .colab-df-container {\n",
              "      display:flex;\n",
              "      flex-wrap:wrap;\n",
              "      gap: 12px;\n",
              "    }\n",
              "\n",
              "    .colab-df-convert {\n",
              "      background-color: #E8F0FE;\n",
              "      border: none;\n",
              "      border-radius: 50%;\n",
              "      cursor: pointer;\n",
              "      display: none;\n",
              "      fill: #1967D2;\n",
              "      height: 32px;\n",
              "      padding: 0 0 0 0;\n",
              "      width: 32px;\n",
              "    }\n",
              "\n",
              "    .colab-df-convert:hover {\n",
              "      background-color: #E2EBFA;\n",
              "      box-shadow: 0px 1px 2px rgba(60, 64, 67, 0.3), 0px 1px 3px 1px rgba(60, 64, 67, 0.15);\n",
              "      fill: #174EA6;\n",
              "    }\n",
              "\n",
              "    [theme=dark] .colab-df-convert {\n",
              "      background-color: #3B4455;\n",
              "      fill: #D2E3FC;\n",
              "    }\n",
              "\n",
              "    [theme=dark] .colab-df-convert:hover {\n",
              "      background-color: #434B5C;\n",
              "      box-shadow: 0px 1px 3px 1px rgba(0, 0, 0, 0.15);\n",
              "      filter: drop-shadow(0px 1px 2px rgba(0, 0, 0, 0.3));\n",
              "      fill: #FFFFFF;\n",
              "    }\n",
              "  </style>\n",
              "\n",
              "      <script>\n",
              "        const buttonEl =\n",
              "          document.querySelector('#df-6dba6f01-106d-4471-bc46-c243954de1d5 button.colab-df-convert');\n",
              "        buttonEl.style.display =\n",
              "          google.colab.kernel.accessAllowed ? 'block' : 'none';\n",
              "\n",
              "        async function convertToInteractive(key) {\n",
              "          const element = document.querySelector('#df-6dba6f01-106d-4471-bc46-c243954de1d5');\n",
              "          const dataTable =\n",
              "            await google.colab.kernel.invokeFunction('convertToInteractive',\n",
              "                                                     [key], {});\n",
              "          if (!dataTable) return;\n",
              "\n",
              "          const docLinkHtml = 'Like what you see? Visit the ' +\n",
              "            '<a target=\"_blank\" href=https://colab.research.google.com/notebooks/data_table.ipynb>data table notebook</a>'\n",
              "            + ' to learn more about interactive tables.';\n",
              "          element.innerHTML = '';\n",
              "          dataTable['output_type'] = 'display_data';\n",
              "          await google.colab.output.renderOutput(dataTable, element);\n",
              "          const docLink = document.createElement('div');\n",
              "          docLink.innerHTML = docLinkHtml;\n",
              "          element.appendChild(docLink);\n",
              "        }\n",
              "      </script>\n",
              "    </div>\n",
              "  </div>\n",
              "  "
            ]
          },
          "metadata": {},
          "execution_count": 21
        }
      ]
    },
    {
      "cell_type": "markdown",
      "source": [
        "#**Кластеризация**"
      ],
      "metadata": {
        "id": "FGMwiTASJZrd"
      }
    },
    {
      "cell_type": "markdown",
      "source": [
        "Задача кластеризации позволяет проверить предположение о наличии некоторой ценовой политики онлайн-магазина в рассматриваемой категории товаров. Если кластеризация будет успешной с примерно равномерным распределением ассортимента по кластерам, это будет означать, что выявлены ценовые сегменты, подтверждаемые интересом клинтов, выраженным в количестве голосований. Если кластеризация не удастся, это будет означать, что магазин выбрал стратегию равномерного распределения ценового диапазона."
      ],
      "metadata": {
        "id": "4unWoavWrUrW"
      }
    },
    {
      "cell_type": "code",
      "source": [
        "from sklearn.model_selection import train_test_split\n",
        "from sklearn.preprocessing import StandardScaler\n",
        "from sklearn.cluster import DBSCAN\n",
        "from sklearn.neighbors import NearestNeighbors"
      ],
      "metadata": {
        "id": "SnVVrAwIIzSt"
      },
      "execution_count": null,
      "outputs": []
    },
    {
      "cell_type": "markdown",
      "source": [
        "Необходимые функции кластеризации:"
      ],
      "metadata": {
        "id": "iTQeN5hcp7GU"
      }
    },
    {
      "cell_type": "code",
      "source": [
        "# --нормализация датасета стандартным скалером\n",
        "def cl_normal(df):\n",
        "    scaler = StandardScaler()\n",
        "    return scaler.fit_transform(df)\n",
        "# --алгоритм поиска ближайших соседей\n",
        "def cl_neib(df):\n",
        "    neigh = NearestNeighbors(n_neighbors=2)\n",
        "    nbrs = neigh.fit(df)\n",
        "    # для каждой точки из набора находим ближайшую к ней и расстояние до нее\n",
        "    distances, indices = nbrs.kneighbors(df)\n",
        "    # сортируем массив расстояний\n",
        "    distances = np.sort(distances, axis=0)\n",
        "    # забираем только массив расстояний до соседей, отбрасывая расстояния\n",
        "    # до обучающих точек\n",
        "    return distances[:,1]\n",
        "# --отрисовка для поиска e\n",
        "def cl_plot_e(dist, hight=5, x_lim=(0,0), y_lim=(0,0)):\n",
        "    plt.rcParams['figure.figsize']=hight,hight\n",
        "    if x_lim[0] != 0: plt.xlim(x_lim[0], x_lim[1])\n",
        "    if y_lim[0] != 0: plt.ylim(y_lim[0], y_lim[1])\n",
        "    ln = sns.lineplot(data=dist, legend=None)\n",
        "    ln.set_title('Зависимость расстояний от точек в множестве')\n",
        "    ln.set_xlabel('Точки из набора')\n",
        "    ln.set_ylabel('Расстояние между точками')\n",
        "    plt.show()\n",
        "#  --процедура поиска кластеров\n",
        "def cl_dbscan_proc(df, samples,eps):\n",
        "    dbscan = DBSCAN(eps=eps, min_samples=samples)\n",
        "    cl = dbscan.fit(df).labels_\n",
        "    noi = cl[(cl == -1)].shape[0]\n",
        "    return (cl, cl.max() + 1, noi/cl.shape[0]) \n",
        "# --процедура расчета параметров кластера\n",
        "def cl_param(df, cl_field):\n",
        "    df = df.select_dtypes(include='number')\n",
        "    ag = dict((d, 'mean') for d in df.columns)\n",
        "    ag[cl_field] = 'count'\n",
        "    df = df.groupby(cl_field).agg(ag)\n",
        "    df.index.name = 'cluster'\n",
        "    df = df.reset_index()\n",
        "    df['clust_perc'] = (df[cl_field]/df[cl_field].sum()*100).round(1)\n",
        "    return df"
      ],
      "metadata": {
        "id": "uP850XtaqBCs"
      },
      "execution_count": null,
      "outputs": []
    },
    {
      "cell_type": "markdown",
      "source": [
        "Для успешной работы алгоритма DBSCAN необходима нормализация датасета. Будем использовать нормальные скалер."
      ],
      "metadata": {
        "id": "2i2IR1c8Ojko"
      }
    },
    {
      "cell_type": "code",
      "source": [
        "X_st = cl_normal(df_inter_noanomal)"
      ],
      "metadata": {
        "id": "_DCKIV66IzS-"
      },
      "execution_count": null,
      "outputs": []
    },
    {
      "cell_type": "markdown",
      "source": [
        "Попытаемся подобрать оптимальные параметры для DBSCAN.\n"
      ],
      "metadata": {
        "id": "gquLGn8DfSEM"
      }
    },
    {
      "cell_type": "code",
      "source": [
        "dist = cl_neib(X_st)\n",
        "cl_plot_e(dist,8,(0,176),(0,0.75))\n"
      ],
      "metadata": {
        "colab": {
          "base_uri": "https://localhost:8080/"
        },
        "id": "pjb4haevfZOb",
        "outputId": "0ff069de-473d-4fa9-ef15-3b390884a2fb"
      },
      "execution_count": null,
      "outputs": [
        {
          "output_type": "display_data",
          "data": {
            "text/plain": [
              "<Figure size 576x576 with 1 Axes>"
            ],
            "image/png": "[encoded data removed]"
          },
          "metadata": {
            "needs_background": "light"
          }
        }
      ]
    },
    {
      "cell_type": "markdown",
      "source": [
        "Максимальная кривизна графика показывает с какого момента расстояние между точками начинает расти быстрее. Это значение расстояния и следует брать в качестве параметра для метода DBSCAN, поскольку если брать большее значение, тем самым мы будем искать более разреженные кластеры, а если меньшее - то слишком плотные.\n",
        "Применим процедуру DBSCAN с параметрами, соответствующими максимальной кривизне данного графика."
      ],
      "metadata": {
        "id": "vJnTyutJVh5_"
      }
    },
    {
      "cell_type": "code",
      "source": [
        "clusters, cl_count, noise = cl_dbscan_proc(X_st, 4, 0.4)\n",
        "print('Количество найденных кластеров: {}\\nПроцент шума: {:.2%}'.format(cl_count, noise))"
      ],
      "metadata": {
        "colab": {
          "base_uri": "https://localhost:8080/"
        },
        "id": "vdK60gIBVnc6",
        "outputId": "0fa8e6ad-e853-42e8-8261-45e17da0f821"
      },
      "execution_count": null,
      "outputs": [
        {
          "output_type": "stream",
          "name": "stdout",
          "text": [
            "Количество найденных кластеров: 6\n",
            "Процент шума: 17.52%\n"
          ]
        }
      ]
    },
    {
      "cell_type": "markdown",
      "source": [
        "Добавим разбиение на кластеры к нашему датасету и попробуем визуализировать."
      ],
      "metadata": {
        "id": "2nJuMt1u8nHH"
      }
    },
    {
      "cell_type": "code",
      "source": [
        "df_cluster = df_inter_noanomal.copy()\n",
        "df_cluster['clusters'] = clusters.tolist()\n",
        "sns.pairplot(df_cluster, hue='clusters')"
      ],
      "metadata": {
        "colab": {
          "base_uri": "https://localhost:8080/"
        },
        "id": "8Zaagvuw8wBa",
        "outputId": "8fc01158-8820-43d5-8a86-d6f22137db6a"
      },
      "execution_count": null,
      "outputs": [
        {
          "output_type": "execute_result",
          "data": {
            "text/plain": [
              "<seaborn.axisgrid.PairGrid at 0x7f4077fbea50>"
            ]
          },
          "metadata": {},
          "execution_count": 338
        },
        {
          "output_type": "display_data",
          "data": {
            "text/plain": [
              "<Figure size 590.75x540 with 12 Axes>"
            ],
            "image/png": "[encoded data removed]"
          },
          "metadata": {
            "needs_background": "light"
          }
        }
      ]
    },
    {
      "cell_type": "markdown",
      "source": [
        "Посмотрим на структуру получившихся кластеров."
      ],
      "metadata": {
        "id": "D-UH1yHcJpCW"
      }
    },
    {
      "cell_type": "code",
      "source": [
        "cl_param(df_cluster, 'clusters')"
      ],
      "metadata": {
        "colab": {
          "base_uri": "https://localhost:8080/"
        },
        "id": "dQ7C-3JkHF-2",
        "outputId": "f28d044c-0ee8-4eb0-c9a2-803e0b93fe4e"
      },
      "execution_count": null,
      "outputs": [
        {
          "output_type": "execute_result",
          "data": {
            "text/plain": [
              "   cluster         price       elect    rating  clusters  clust_perc\n",
              "0       -1  37928.268293  180.170732  3.914634        41        17.5\n",
              "1        0  42505.666667   91.246667  4.500000       150        64.1\n",
              "2        1  23743.444444  496.555556  4.500000         9         3.8\n",
              "3        2  29079.000000  642.000000  4.500000         5         2.1\n",
              "4        3  42343.444444    9.333333  5.000000        18         7.7\n",
              "5        4  46699.000000  527.250000  4.500000         4         1.7\n",
              "6        5  82856.142857    4.285714  5.000000         7         3.0"
            ],
            "text/html": [
              "\n",
              "  <div id=\"df-012b252c-da68-4db3-bb95-7a59afd7970d\">\n",
              "    <div class=\"colab-df-container\">\n",
              "      <div>\n",
              "<style scoped>\n",
              "    .dataframe tbody tr th:only-of-type {\n",
              "        vertical-align: middle;\n",
              "    }\n",
              "\n",
              "    .dataframe tbody tr th {\n",
              "        vertical-align: top;\n",
              "    }\n",
              "\n",
              "    .dataframe thead th {\n",
              "        text-align: right;\n",
              "    }\n",
              "</style>\n",
              "<table border=\"1\" class=\"dataframe\">\n",
              "  <thead>\n",
              "    <tr style=\"text-align: right;\">\n",
              "      <th></th>\n",
              "      <th>cluster</th>\n",
              "      <th>price</th>\n",
              "      <th>elect</th>\n",
              "      <th>rating</th>\n",
              "      <th>clusters</th>\n",
              "      <th>clust_perc</th>\n",
              "    </tr>\n",
              "  </thead>\n",
              "  <tbody>\n",
              "    <tr>\n",
              "      <th>0</th>\n",
              "      <td>-1</td>\n",
              "      <td>37928.268293</td>\n",
              "      <td>180.170732</td>\n",
              "      <td>3.914634</td>\n",
              "      <td>41</td>\n",
              "      <td>17.5</td>\n",
              "    </tr>\n",
              "    <tr>\n",
              "      <th>1</th>\n",
              "      <td>0</td>\n",
              "      <td>42505.666667</td>\n",
              "      <td>91.246667</td>\n",
              "      <td>4.500000</td>\n",
              "      <td>150</td>\n",
              "      <td>64.1</td>\n",
              "    </tr>\n",
              "    <tr>\n",
              "      <th>2</th>\n",
              "      <td>1</td>\n",
              "      <td>23743.444444</td>\n",
              "      <td>496.555556</td>\n",
              "      <td>4.500000</td>\n",
              "      <td>9</td>\n",
              "      <td>3.8</td>\n",
              "    </tr>\n",
              "    <tr>\n",
              "      <th>3</th>\n",
              "      <td>2</td>\n",
              "      <td>29079.000000</td>\n",
              "      <td>642.000000</td>\n",
              "      <td>4.500000</td>\n",
              "      <td>5</td>\n",
              "      <td>2.1</td>\n",
              "    </tr>\n",
              "    <tr>\n",
              "      <th>4</th>\n",
              "      <td>3</td>\n",
              "      <td>42343.444444</td>\n",
              "      <td>9.333333</td>\n",
              "      <td>5.000000</td>\n",
              "      <td>18</td>\n",
              "      <td>7.7</td>\n",
              "    </tr>\n",
              "    <tr>\n",
              "      <th>5</th>\n",
              "      <td>4</td>\n",
              "      <td>46699.000000</td>\n",
              "      <td>527.250000</td>\n",
              "      <td>4.500000</td>\n",
              "      <td>4</td>\n",
              "      <td>1.7</td>\n",
              "    </tr>\n",
              "    <tr>\n",
              "      <th>6</th>\n",
              "      <td>5</td>\n",
              "      <td>82856.142857</td>\n",
              "      <td>4.285714</td>\n",
              "      <td>5.000000</td>\n",
              "      <td>7</td>\n",
              "      <td>3.0</td>\n",
              "    </tr>\n",
              "  </tbody>\n",
              "</table>\n",
              "</div>\n",
              "      <button class=\"colab-df-convert\" onclick=\"convertToInteractive('df-012b252c-da68-4db3-bb95-7a59afd7970d')\"\n",
              "              title=\"Convert this dataframe to an interactive table.\"\n",
              "              style=\"display:none;\">\n",
              "        \n",
              "  <svg xmlns=\"http://www.w3.org/2000/svg\" height=\"24px\"viewBox=\"0 0 24 24\"\n",
              "       width=\"24px\">\n",
              "    <path d=\"M0 0h24v24H0V0z\" fill=\"none\"/>\n",
              "    <path d=\"M18.56 5.44l.94 2.06.94-2.06 2.06-.94-2.06-.94-.94-2.06-.94 2.06-2.06.94zm-11 1L8.5 8.5l.94-2.06 2.06-.94-2.06-.94L8.5 2.5l-.94 2.06-2.06.94zm10 10l.94 2.06.94-2.06 2.06-.94-2.06-.94-.94-2.06-.94 2.06-2.06.94z\"/><path d=\"M17.41 7.96l-1.37-1.37c-.4-.4-.92-.59-1.43-.59-.52 0-1.04.2-1.43.59L10.3 9.45l-7.72 7.72c-.78.78-.78 2.05 0 2.83L4 21.41c.39.39.9.59 1.41.59.51 0 1.02-.2 1.41-.59l7.78-7.78 2.81-2.81c.8-.78.8-2.07 0-2.86zM5.41 20L4 18.59l7.72-7.72 1.47 1.35L5.41 20z\"/>\n",
              "  </svg>\n",
              "      </button>\n",
              "      \n",
              "  <style>\n",
              "    .colab-df-container {\n",
              "      display:flex;\n",
              "      flex-wrap:wrap;\n",
              "      gap: 12px;\n",
              "    }\n",
              "\n",
              "    .colab-df-convert {\n",
              "      background-color: #E8F0FE;\n",
              "      border: none;\n",
              "      border-radius: 50%;\n",
              "      cursor: pointer;\n",
              "      display: none;\n",
              "      fill: #1967D2;\n",
              "      height: 32px;\n",
              "      padding: 0 0 0 0;\n",
              "      width: 32px;\n",
              "    }\n",
              "\n",
              "    .colab-df-convert:hover {\n",
              "      background-color: #E2EBFA;\n",
              "      box-shadow: 0px 1px 2px rgba(60, 64, 67, 0.3), 0px 1px 3px 1px rgba(60, 64, 67, 0.15);\n",
              "      fill: #174EA6;\n",
              "    }\n",
              "\n",
              "    [theme=dark] .colab-df-convert {\n",
              "      background-color: #3B4455;\n",
              "      fill: #D2E3FC;\n",
              "    }\n",
              "\n",
              "    [theme=dark] .colab-df-convert:hover {\n",
              "      background-color: #434B5C;\n",
              "      box-shadow: 0px 1px 3px 1px rgba(0, 0, 0, 0.15);\n",
              "      filter: drop-shadow(0px 1px 2px rgba(0, 0, 0, 0.3));\n",
              "      fill: #FFFFFF;\n",
              "    }\n",
              "  </style>\n",
              "\n",
              "      <script>\n",
              "        const buttonEl =\n",
              "          document.querySelector('#df-012b252c-da68-4db3-bb95-7a59afd7970d button.colab-df-convert');\n",
              "        buttonEl.style.display =\n",
              "          google.colab.kernel.accessAllowed ? 'block' : 'none';\n",
              "\n",
              "        async function convertToInteractive(key) {\n",
              "          const element = document.querySelector('#df-012b252c-da68-4db3-bb95-7a59afd7970d');\n",
              "          const dataTable =\n",
              "            await google.colab.kernel.invokeFunction('convertToInteractive',\n",
              "                                                     [key], {});\n",
              "          if (!dataTable) return;\n",
              "\n",
              "          const docLinkHtml = 'Like what you see? Visit the ' +\n",
              "            '<a target=\"_blank\" href=https://colab.research.google.com/notebooks/data_table.ipynb>data table notebook</a>'\n",
              "            + ' to learn more about interactive tables.';\n",
              "          element.innerHTML = '';\n",
              "          dataTable['output_type'] = 'display_data';\n",
              "          await google.colab.output.renderOutput(dataTable, element);\n",
              "          const docLink = document.createElement('div');\n",
              "          docLink.innerHTML = docLinkHtml;\n",
              "          element.appendChild(docLink);\n",
              "        }\n",
              "      </script>\n",
              "    </div>\n",
              "  </div>\n",
              "  "
            ]
          },
          "metadata": {},
          "execution_count": 339
        }
      ]
    },
    {
      "cell_type": "markdown",
      "source": [
        "**Выводы по ходу исследования**\n",
        "- Процент шума незначительный - 18.2%\n",
        "- Больше половины всех товаров относятся к одному кластеру №1, что может говорить об отсутствии выраженной политики сегментации ценовых предложений\n",
        "- Есть группа товаров с небольшим количеством голосов и высоким рейтингом, средняя цена в которой почти совпадает с основной группой. Возможно, это т.н. \"накрутки\" рейтинга (кластер №4)\n",
        "- Остальные кластеры оказались в пределах 2-3% от общего размера выборки, следовательно не могут нести содержательной информации"
      ],
      "metadata": {
        "id": "EpHQ2XVLcfOn"
      }
    },
    {
      "cell_type": "markdown",
      "source": [
        "### Анализ производителя GIGABYTE"
      ],
      "metadata": {
        "id": "EMipfWxj3DRO"
      }
    },
    {
      "cell_type": "markdown",
      "source": [
        "Для подтверждения предположения об отсутствии ценовых сегментов в данной категории товаров проанализируем товары одного поставщика (GIGABYTE), наиболее широко представленного в онлайн-магазине."
      ],
      "metadata": {
        "id": "Dl3Dhr9SeqSl"
      }
    },
    {
      "cell_type": "code",
      "source": [
        "df_GIGABYTE = df_pred[df_pred.vendor=='GIGABYTE'].select_dtypes(include='number')\n",
        "M, anomal = eda_anomal_fit(df_GIGABYTE,\n",
        "                            {'price':[0,1.e5],\n",
        "                             'elect':[0,800]})\n",
        "print('Количество аномальных наблюдений {:d}, что составляет {:.2%} от общего числа записей.'\n",
        "        .format(anomal, anomal/df_GIGABYTE.shape[0]))\n",
        "df_GIGABYTE = eda_anomal_clear(df_GIGABYTE, M)\n",
        "X_st = cl_normal(df_GIGABYTE)\n",
        "dist = cl_neib(X_st)\n",
        "cl_plot_e(dist,8,(0,176),(0,0.75))"
      ],
      "metadata": {
        "colab": {
          "base_uri": "https://localhost:8080/"
        },
        "id": "adQ4mLhI3ISA",
        "outputId": "1ba7caa0-ad87-48ab-d91f-9e41f439615e"
      },
      "execution_count": null,
      "outputs": [
        {
          "output_type": "stream",
          "name": "stdout",
          "text": [
            "Количество аномальных наблюдений 1, что составляет 1.35% от общего числа записей.\n"
          ]
        },
        {
          "output_type": "display_data",
          "data": {
            "text/plain": [
              "<Figure size 576x576 with 1 Axes>"
            ],
            "image/png": "[encoded data removed]"
          },
          "metadata": {
            "needs_background": "light"
          }
        }
      ]
    },
    {
      "cell_type": "code",
      "source": [
        "clusters, cl_count, noise = cl_dbscan_proc(X_st, 3, 0.8)\n",
        "print('Количество найденных кластеров: {}\\nПроцент шума: {:.2%}'.format(cl_count, noise))"
      ],
      "metadata": {
        "colab": {
          "base_uri": "https://localhost:8080/"
        },
        "id": "0rLwY34D60FG",
        "outputId": "c42b43aa-4de7-48c9-80cf-8415c3a3bbd6"
      },
      "execution_count": null,
      "outputs": [
        {
          "output_type": "stream",
          "name": "stdout",
          "text": [
            "Количество найденных кластеров: 2\n",
            "Процент шума: 20.55%\n"
          ]
        }
      ]
    },
    {
      "cell_type": "code",
      "source": [
        "df_GIGABYTE['clusters'] = clusters.tolist()\n",
        "sns.pairplot(df_GIGABYTE, hue='clusters')\n",
        "cl_param(df_GIGABYTE, 'clusters')"
      ],
      "metadata": {
        "colab": {
          "base_uri": "https://localhost:8080/"
        },
        "id": "Nmc4o4aIoi09",
        "outputId": "a973a6dd-f33d-4751-ddae-903ea2050bcd"
      },
      "execution_count": null,
      "outputs": [
        {
          "output_type": "execute_result",
          "data": {
            "text/plain": [
              "   cluster         price       elect  rating  clusters  clust_perc\n",
              "0       -1  45425.666667  185.466667     4.1        15        20.5\n",
              "1        0  40676.358491  113.584906     4.5        53        72.6\n",
              "2        1  65519.000000   10.600000     4.0         5         6.8"
            ],
            "text/html": [
              "\n",
              "  <div id=\"df-2fb65dc3-fd9d-47e1-af54-d00d36ab7be5\">\n",
              "    <div class=\"colab-df-container\">\n",
              "      <div>\n",
              "<style scoped>\n",
              "    .dataframe tbody tr th:only-of-type {\n",
              "        vertical-align: middle;\n",
              "    }\n",
              "\n",
              "    .dataframe tbody tr th {\n",
              "        vertical-align: top;\n",
              "    }\n",
              "\n",
              "    .dataframe thead th {\n",
              "        text-align: right;\n",
              "    }\n",
              "</style>\n",
              "<table border=\"1\" class=\"dataframe\">\n",
              "  <thead>\n",
              "    <tr style=\"text-align: right;\">\n",
              "      <th></th>\n",
              "      <th>cluster</th>\n",
              "      <th>price</th>\n",
              "      <th>elect</th>\n",
              "      <th>rating</th>\n",
              "      <th>clusters</th>\n",
              "      <th>clust_perc</th>\n",
              "    </tr>\n",
              "  </thead>\n",
              "  <tbody>\n",
              "    <tr>\n",
              "      <th>0</th>\n",
              "      <td>-1</td>\n",
              "      <td>45425.666667</td>\n",
              "      <td>185.466667</td>\n",
              "      <td>4.1</td>\n",
              "      <td>15</td>\n",
              "      <td>20.5</td>\n",
              "    </tr>\n",
              "    <tr>\n",
              "      <th>1</th>\n",
              "      <td>0</td>\n",
              "      <td>40676.358491</td>\n",
              "      <td>113.584906</td>\n",
              "      <td>4.5</td>\n",
              "      <td>53</td>\n",
              "      <td>72.6</td>\n",
              "    </tr>\n",
              "    <tr>\n",
              "      <th>2</th>\n",
              "      <td>1</td>\n",
              "      <td>65519.000000</td>\n",
              "      <td>10.600000</td>\n",
              "      <td>4.0</td>\n",
              "      <td>5</td>\n",
              "      <td>6.8</td>\n",
              "    </tr>\n",
              "  </tbody>\n",
              "</table>\n",
              "</div>\n",
              "      <button class=\"colab-df-convert\" onclick=\"convertToInteractive('df-2fb65dc3-fd9d-47e1-af54-d00d36ab7be5')\"\n",
              "              title=\"Convert this dataframe to an interactive table.\"\n",
              "              style=\"display:none;\">\n",
              "        \n",
              "  <svg xmlns=\"http://www.w3.org/2000/svg\" height=\"24px\"viewBox=\"0 0 24 24\"\n",
              "       width=\"24px\">\n",
              "    <path d=\"M0 0h24v24H0V0z\" fill=\"none\"/>\n",
              "    <path d=\"M18.56 5.44l.94 2.06.94-2.06 2.06-.94-2.06-.94-.94-2.06-.94 2.06-2.06.94zm-11 1L8.5 8.5l.94-2.06 2.06-.94-2.06-.94L8.5 2.5l-.94 2.06-2.06.94zm10 10l.94 2.06.94-2.06 2.06-.94-2.06-.94-.94-2.06-.94 2.06-2.06.94z\"/><path d=\"M17.41 7.96l-1.37-1.37c-.4-.4-.92-.59-1.43-.59-.52 0-1.04.2-1.43.59L10.3 9.45l-7.72 7.72c-.78.78-.78 2.05 0 2.83L4 21.41c.39.39.9.59 1.41.59.51 0 1.02-.2 1.41-.59l7.78-7.78 2.81-2.81c.8-.78.8-2.07 0-2.86zM5.41 20L4 18.59l7.72-7.72 1.47 1.35L5.41 20z\"/>\n",
              "  </svg>\n",
              "      </button>\n",
              "      \n",
              "  <style>\n",
              "    .colab-df-container {\n",
              "      display:flex;\n",
              "      flex-wrap:wrap;\n",
              "      gap: 12px;\n",
              "    }\n",
              "\n",
              "    .colab-df-convert {\n",
              "      background-color: #E8F0FE;\n",
              "      border: none;\n",
              "      border-radius: 50%;\n",
              "      cursor: pointer;\n",
              "      display: none;\n",
              "      fill: #1967D2;\n",
              "      height: 32px;\n",
              "      padding: 0 0 0 0;\n",
              "      width: 32px;\n",
              "    }\n",
              "\n",
              "    .colab-df-convert:hover {\n",
              "      background-color: #E2EBFA;\n",
              "      box-shadow: 0px 1px 2px rgba(60, 64, 67, 0.3), 0px 1px 3px 1px rgba(60, 64, 67, 0.15);\n",
              "      fill: #174EA6;\n",
              "    }\n",
              "\n",
              "    [theme=dark] .colab-df-convert {\n",
              "      background-color: #3B4455;\n",
              "      fill: #D2E3FC;\n",
              "    }\n",
              "\n",
              "    [theme=dark] .colab-df-convert:hover {\n",
              "      background-color: #434B5C;\n",
              "      box-shadow: 0px 1px 3px 1px rgba(0, 0, 0, 0.15);\n",
              "      filter: drop-shadow(0px 1px 2px rgba(0, 0, 0, 0.3));\n",
              "      fill: #FFFFFF;\n",
              "    }\n",
              "  </style>\n",
              "\n",
              "      <script>\n",
              "        const buttonEl =\n",
              "          document.querySelector('#df-2fb65dc3-fd9d-47e1-af54-d00d36ab7be5 button.colab-df-convert');\n",
              "        buttonEl.style.display =\n",
              "          google.colab.kernel.accessAllowed ? 'block' : 'none';\n",
              "\n",
              "        async function convertToInteractive(key) {\n",
              "          const element = document.querySelector('#df-2fb65dc3-fd9d-47e1-af54-d00d36ab7be5');\n",
              "          const dataTable =\n",
              "            await google.colab.kernel.invokeFunction('convertToInteractive',\n",
              "                                                     [key], {});\n",
              "          if (!dataTable) return;\n",
              "\n",
              "          const docLinkHtml = 'Like what you see? Visit the ' +\n",
              "            '<a target=\"_blank\" href=https://colab.research.google.com/notebooks/data_table.ipynb>data table notebook</a>'\n",
              "            + ' to learn more about interactive tables.';\n",
              "          element.innerHTML = '';\n",
              "          dataTable['output_type'] = 'display_data';\n",
              "          await google.colab.output.renderOutput(dataTable, element);\n",
              "          const docLink = document.createElement('div');\n",
              "          docLink.innerHTML = docLinkHtml;\n",
              "          element.appendChild(docLink);\n",
              "        }\n",
              "      </script>\n",
              "    </div>\n",
              "  </div>\n",
              "  "
            ]
          },
          "metadata": {},
          "execution_count": 342
        },
        {
          "output_type": "display_data",
          "data": {
            "text/plain": [
              "<Figure size 587.375x540 with 12 Axes>"
            ],
            "image/png": "[encoded data removed]"
          },
          "metadata": {
            "needs_background": "light"
          }
        }
      ]
    },
    {
      "cell_type": "markdown",
      "source": [
        "**Выводы по ходу исследования**\n",
        "\n",
        "- Картина распределения по производителю GYGABIT практически аналогична общему датасету\n",
        "- Шум соизмерим и составляет 19,5%\n",
        "- Ядро товаров составляет 74.4%\n",
        "- Отдельный класс сформировался вокруг дорогих товаров с небольшим количеством голосований"
      ],
      "metadata": {
        "id": "_2G7iLLJiqp1"
      }
    },
    {
      "cell_type": "markdown",
      "source": [
        "#Кластеризация. Выводы\n",
        "- Онлайн-магазин не имеет выраженной сегментации ценового предложения в рассматриваемой товарной категории, ориентируясь на спрос в пределах 30-40 тыс. рублей\n",
        "- Аналогичной стратегии придерживаются и крупные производители\n",
        "- В статистике присутствует группа товаров из указанного выше ценового интервала с высоким рейтингом и небольшим количеством голосований, что может свидетельствовать об искуственных накрутках рейтинга"
      ],
      "metadata": {
        "id": "f9AS0O7Otog7"
      }
    },
    {
      "cell_type": "markdown",
      "source": [
        "#**Проверка гипотез**"
      ],
      "metadata": {
        "id": "SQhAZ5g4Jb0V"
      }
    },
    {
      "cell_type": "markdown",
      "source": [
        "Оценим влияние производителя на популярность товаров в выбранной категории. Вначале изучим закон распределения параметра `elect` и если он будет близок к нормальному, то сможем оценить количественные показатели вышеуказанного влияния. Если же это окажется не так, выборочно проверим несколько гипотез о том, имеет ли параметр `vendor` статистически значимое влияние распределение параметра `elect`."
      ],
      "metadata": {
        "id": "esxV0ihCwV4u"
      }
    },
    {
      "cell_type": "code",
      "source": [
        "from scipy import stats\n",
        "from scipy.stats import shapiro\n",
        "from scipy.stats import mannwhitneyu"
      ],
      "metadata": {
        "id": "GQe-nd3jzLuJ"
      },
      "execution_count": null,
      "outputs": []
    },
    {
      "cell_type": "markdown",
      "source": [
        "Необходимые функции для проверки гипотез:"
      ],
      "metadata": {
        "id": "3582pHfkX2ZJ"
      }
    },
    {
      "cell_type": "code",
      "source": [
        "# --получение списка вендоров\n",
        "def vendors(df):\n",
        "    return df.vendor.value_counts().index.tolist()\n",
        "# --расчет гипотезы H_0 (1 - подтвеждается, 0 - отвергается)\n",
        "def H_0(df, i, j, pvl):\n",
        "    vnds = vendors(df)\n",
        "    stat, pvalue = mannwhitneyu(df[df.vendor == vnds[i]].elect,\n",
        "                                df[df.vendor == vnds[j]].elect)\n",
        "    return pvalue >= pvl\n",
        "# --расчет гипотезы H_1  (1 - подтвеждается, 0 - отвергается)\n",
        "def H_1(df, i, j, pvl):\n",
        "    vendors = df.vendor.value_counts().index.tolist()\n",
        "    i_mode = df[df.vendor == vendors[i]].elect.mode()[0]\n",
        "    j_mode = df[df.vendor == vendors[j]].elect.mode()[0]\n",
        "    return i_mode <= j_mode\n",
        "# --расчет бинарной матрицы \n",
        "def bmatrix(df, boolproc, pvl):\n",
        "    dim = len(vendors(df))\n",
        "    res = np.zeros((dim, dim), 'bool')\n",
        "    for i in range(dim):\n",
        "        for j in range(dim):\n",
        "            res[i,j] = boolproc(df, i, j, pvl)\n",
        "    return res\n",
        "# --построение рейтинга вендоров\n",
        "def rating_of_vendors(df):\n",
        "    rtng = dict.fromkeys(df.columns.tolist() + df.index.tolist(),0)\n",
        "    changed = True\n",
        "    while changed:\n",
        "        changed = False\n",
        "        for cl in df.columns.tolist():\n",
        "            for ln in df.index.tolist(): \n",
        "                if (df.loc[ln,cl] == True) & (rtng[cl] <= rtng[ln]):\n",
        "                    rtng[cl] = rtng[ln] + 1\n",
        "                    changed = True\n",
        "    rtng = dict(sorted(rtng.items(),key=lambda item: item[1]))\n",
        "    return rtng"
      ],
      "metadata": {
        "id": "1Plr3YeYX7rr"
      },
      "execution_count": null,
      "outputs": []
    },
    {
      "cell_type": "markdown",
      "source": [
        "Для начала подготовим датасет, который будет содержать только поля `elect` и `vendor`. Очистим его аномалий."
      ],
      "metadata": {
        "id": "3eYpTmn70RCb"
      }
    },
    {
      "cell_type": "code",
      "source": [
        "df_hip = df_pred.loc[:,['elect','vendor']]\n",
        "df_hip['elect'].name = 'Популярность'\n",
        "df_hip['vendor'].name = 'Производитель'\n",
        "eda_anomal_plot(df_hip,(10,10))\n"
      ],
      "metadata": {
        "colab": {
          "base_uri": "https://localhost:8080/",
          "height": 678
        },
        "id": "KeoJOGPv2Et5",
        "outputId": "ffb57e7a-ca51-4522-891b-9ddc9eca9b17"
      },
      "execution_count": null,
      "outputs": [
        {
          "output_type": "display_data",
          "data": {
            "text/plain": [
              "<Figure size 720x720 with 4 Axes>"
            ],
            "image/png": "[encoded data removed]"
          },
          "metadata": {
            "needs_background": "light"
          }
        }
      ]
    },
    {
      "cell_type": "code",
      "source": [
        "M, anomal = eda_anomal_fit(df_hip,\n",
        "                            {'elect':[0,400]})\n",
        "print('Количество аномальных наблюдений {:d}, что составляет {:.2%} от общего числа записей.'\n",
        "        .format(anomal, anomal/df_hip.shape[0]))"
      ],
      "metadata": {
        "colab": {
          "base_uri": "https://localhost:8080/"
        },
        "id": "d7Iuhj1k3ZTR",
        "outputId": "9827dce0-5668-43de-f7ca-9fbf4914b3db"
      },
      "execution_count": null,
      "outputs": [
        {
          "output_type": "stream",
          "name": "stdout",
          "text": [
            "Количество аномальных наблюдений 25, что составляет 10.20% от общего числа записей.\n"
          ]
        }
      ]
    },
    {
      "cell_type": "code",
      "source": [
        "df_hip = eda_anomal_clear(df_hip, M)"
      ],
      "metadata": {
        "id": "Qki6vcjY3sKP"
      },
      "execution_count": null,
      "outputs": []
    },
    {
      "cell_type": "markdown",
      "source": [
        "##Гипотеза $H_0$: параметр `elect` подчиняется нормальному закону распределения.\n",
        "\n",
        "Поскольку выборка небольшая, можем использовать критерий Шапиро-Уилкса. Уровень значимости примем равным **$\\alpha$ = 1.0e-02**.\n"
      ],
      "metadata": {
        "id": "7JvhiMzdzvWK"
      }
    },
    {
      "cell_type": "code",
      "source": [
        "shapiro_test = shapiro(df_hip.elect)\n",
        "shapiro_test"
      ],
      "metadata": {
        "colab": {
          "base_uri": "https://localhost:8080/"
        },
        "id": "6xzYeeX50B2V",
        "outputId": "779c1df5-fe8f-4fbf-f4ef-71d1f19e974d"
      },
      "execution_count": null,
      "outputs": [
        {
          "output_type": "execute_result",
          "data": {
            "text/plain": [
              "ShapiroResult(statistic=0.8176013231277466, pvalue=2.4401471257685286e-15)"
            ]
          },
          "metadata": {},
          "execution_count": 510
        }
      ]
    },
    {
      "cell_type": "markdown",
      "source": [
        "Поскольку $p_{value} < \\alpha$, гипотеза $H_0$ отвергается - параметр `elect` не подчиняется нормальному закону распределения."
      ],
      "metadata": {
        "id": "14r6aGhR53jc"
      }
    },
    {
      "cell_type": "markdown",
      "source": [
        "##Гипотезы для парных сравнений: $H_0$ (нет статистически значимых отличий в оценках популярности товаров разных производителей) и $H_1$ (мода выборки голосования за товары производителя А меньше или равна, чем у производителя Б)\n",
        "Произведем попарное сравнение популярности производителей. Сравнение мод этих выборок будет корректным, если между выборками будет установлено статистически значимое различие (отвергнется гипотеза $H_0$). Поскольку распределение отлично от нормального, для проверки нипотезы $H_0$ будем использовать критерий Манна-Уитни-Уилкоксона о равенстве выборочных средних. Уровень значимости оставим таким же **$\\alpha$ = 1.0e-02**.\n",
        "\n",
        "Рассчитаем бинарную матрицу выполнения гипотез $H_0$.\n"
      ],
      "metadata": {
        "id": "F8Z_Wu-27QQP"
      }
    },
    {
      "cell_type": "code",
      "source": [
        "H_0_matr = bmatrix(df_hip, H_0, 0.01)"
      ],
      "metadata": {
        "id": "UAC5_gJK9LP8"
      },
      "execution_count": null,
      "outputs": []
    },
    {
      "cell_type": "markdown",
      "source": [
        "Рассчитаем бинарную матрицу попарных сравнений мод."
      ],
      "metadata": {
        "id": "q8BQvGiaydg5"
      }
    },
    {
      "cell_type": "code",
      "source": [
        "H_1_matr = bmatrix(df_hip, H_1, 0.01)"
      ],
      "metadata": {
        "id": "wcTdBEpn4J_V"
      },
      "execution_count": null,
      "outputs": []
    },
    {
      "cell_type": "markdown",
      "source": [
        "Сопоставим результаты сравнения мод с резулуьтатами подтверждения гипотез $H_0$ в каждой паре."
      ],
      "metadata": {
        "id": "_QOIcHa7rEzL"
      }
    },
    {
      "cell_type": "code",
      "source": [
        "A = ~(H_1_matr | H_0_matr)\n",
        "# создадим датафрейм из матрицы NumPy\n",
        "vnds = vendors(df_hip)\n",
        "B = pd.DataFrame(A, index = vnds, columns = vnds)\n",
        "B.index.name = 'operand A'\n",
        "B.columns.name = 'operand B'"
      ],
      "metadata": {
        "id": "_yjNFPua_jLB"
      },
      "execution_count": null,
      "outputs": []
    },
    {
      "cell_type": "markdown",
      "source": [
        "Исключим все нулевые столбцы и строки."
      ],
      "metadata": {
        "id": "dgvM902jr6xT"
      }
    },
    {
      "cell_type": "code",
      "source": [
        "B = B[B.any(axis=1)]\n",
        "B = B.T[B.T.any(axis=1)]\n",
        "B"
      ],
      "metadata": {
        "colab": {
          "base_uri": "https://localhost:8080/",
          "height": 269
        },
        "id": "rFO-NyJtsMii",
        "outputId": "80e2f0ae-297e-4c4c-f2f1-78f6271f5bc8"
      },
      "execution_count": null,
      "outputs": [
        {
          "output_type": "execute_result",
          "data": {
            "text/plain": [
              "operand A  GIGABYTE    MSI   ASUS   KFA2  PALIT\n",
              "operand B                                      \n",
              "GIGABYTE      False  False   True  False  False\n",
              "ASUS          False   True  False   True   True\n",
              "SAPPHIRE       True   True  False   True   True\n",
              "INNO3D        False  False  False  False   True\n",
              "PNY            True   True  False   True  False\n",
              "COLORFUL       True   True  False   True   True"
            ],
            "text/html": [
              "\n",
              "  <div id=\"df-ac4e52d6-0f1a-490c-8cf7-9be525ddfc7c\">\n",
              "    <div class=\"colab-df-container\">\n",
              "      <div>\n",
              "<style scoped>\n",
              "    .dataframe tbody tr th:only-of-type {\n",
              "        vertical-align: middle;\n",
              "    }\n",
              "\n",
              "    .dataframe tbody tr th {\n",
              "        vertical-align: top;\n",
              "    }\n",
              "\n",
              "    .dataframe thead th {\n",
              "        text-align: right;\n",
              "    }\n",
              "</style>\n",
              "<table border=\"1\" class=\"dataframe\">\n",
              "  <thead>\n",
              "    <tr style=\"text-align: right;\">\n",
              "      <th>operand A</th>\n",
              "      <th>GIGABYTE</th>\n",
              "      <th>MSI</th>\n",
              "      <th>ASUS</th>\n",
              "      <th>KFA2</th>\n",
              "      <th>PALIT</th>\n",
              "    </tr>\n",
              "    <tr>\n",
              "      <th>operand B</th>\n",
              "      <th></th>\n",
              "      <th></th>\n",
              "      <th></th>\n",
              "      <th></th>\n",
              "      <th></th>\n",
              "    </tr>\n",
              "  </thead>\n",
              "  <tbody>\n",
              "    <tr>\n",
              "      <th>GIGABYTE</th>\n",
              "      <td>False</td>\n",
              "      <td>False</td>\n",
              "      <td>True</td>\n",
              "      <td>False</td>\n",
              "      <td>False</td>\n",
              "    </tr>\n",
              "    <tr>\n",
              "      <th>ASUS</th>\n",
              "      <td>False</td>\n",
              "      <td>True</td>\n",
              "      <td>False</td>\n",
              "      <td>True</td>\n",
              "      <td>True</td>\n",
              "    </tr>\n",
              "    <tr>\n",
              "      <th>SAPPHIRE</th>\n",
              "      <td>True</td>\n",
              "      <td>True</td>\n",
              "      <td>False</td>\n",
              "      <td>True</td>\n",
              "      <td>True</td>\n",
              "    </tr>\n",
              "    <tr>\n",
              "      <th>INNO3D</th>\n",
              "      <td>False</td>\n",
              "      <td>False</td>\n",
              "      <td>False</td>\n",
              "      <td>False</td>\n",
              "      <td>True</td>\n",
              "    </tr>\n",
              "    <tr>\n",
              "      <th>PNY</th>\n",
              "      <td>True</td>\n",
              "      <td>True</td>\n",
              "      <td>False</td>\n",
              "      <td>True</td>\n",
              "      <td>False</td>\n",
              "    </tr>\n",
              "    <tr>\n",
              "      <th>COLORFUL</th>\n",
              "      <td>True</td>\n",
              "      <td>True</td>\n",
              "      <td>False</td>\n",
              "      <td>True</td>\n",
              "      <td>True</td>\n",
              "    </tr>\n",
              "  </tbody>\n",
              "</table>\n",
              "</div>\n",
              "      <button class=\"colab-df-convert\" onclick=\"convertToInteractive('df-ac4e52d6-0f1a-490c-8cf7-9be525ddfc7c')\"\n",
              "              title=\"Convert this dataframe to an interactive table.\"\n",
              "              style=\"display:none;\">\n",
              "        \n",
              "  <svg xmlns=\"http://www.w3.org/2000/svg\" height=\"24px\"viewBox=\"0 0 24 24\"\n",
              "       width=\"24px\">\n",
              "    <path d=\"M0 0h24v24H0V0z\" fill=\"none\"/>\n",
              "    <path d=\"M18.56 5.44l.94 2.06.94-2.06 2.06-.94-2.06-.94-.94-2.06-.94 2.06-2.06.94zm-11 1L8.5 8.5l.94-2.06 2.06-.94-2.06-.94L8.5 2.5l-.94 2.06-2.06.94zm10 10l.94 2.06.94-2.06 2.06-.94-2.06-.94-.94-2.06-.94 2.06-2.06.94z\"/><path d=\"M17.41 7.96l-1.37-1.37c-.4-.4-.92-.59-1.43-.59-.52 0-1.04.2-1.43.59L10.3 9.45l-7.72 7.72c-.78.78-.78 2.05 0 2.83L4 21.41c.39.39.9.59 1.41.59.51 0 1.02-.2 1.41-.59l7.78-7.78 2.81-2.81c.8-.78.8-2.07 0-2.86zM5.41 20L4 18.59l7.72-7.72 1.47 1.35L5.41 20z\"/>\n",
              "  </svg>\n",
              "      </button>\n",
              "      \n",
              "  <style>\n",
              "    .colab-df-container {\n",
              "      display:flex;\n",
              "      flex-wrap:wrap;\n",
              "      gap: 12px;\n",
              "    }\n",
              "\n",
              "    .colab-df-convert {\n",
              "      background-color: #E8F0FE;\n",
              "      border: none;\n",
              "      border-radius: 50%;\n",
              "      cursor: pointer;\n",
              "      display: none;\n",
              "      fill: #1967D2;\n",
              "      height: 32px;\n",
              "      padding: 0 0 0 0;\n",
              "      width: 32px;\n",
              "    }\n",
              "\n",
              "    .colab-df-convert:hover {\n",
              "      background-color: #E2EBFA;\n",
              "      box-shadow: 0px 1px 2px rgba(60, 64, 67, 0.3), 0px 1px 3px 1px rgba(60, 64, 67, 0.15);\n",
              "      fill: #174EA6;\n",
              "    }\n",
              "\n",
              "    [theme=dark] .colab-df-convert {\n",
              "      background-color: #3B4455;\n",
              "      fill: #D2E3FC;\n",
              "    }\n",
              "\n",
              "    [theme=dark] .colab-df-convert:hover {\n",
              "      background-color: #434B5C;\n",
              "      box-shadow: 0px 1px 3px 1px rgba(0, 0, 0, 0.15);\n",
              "      filter: drop-shadow(0px 1px 2px rgba(0, 0, 0, 0.3));\n",
              "      fill: #FFFFFF;\n",
              "    }\n",
              "  </style>\n",
              "\n",
              "      <script>\n",
              "        const buttonEl =\n",
              "          document.querySelector('#df-ac4e52d6-0f1a-490c-8cf7-9be525ddfc7c button.colab-df-convert');\n",
              "        buttonEl.style.display =\n",
              "          google.colab.kernel.accessAllowed ? 'block' : 'none';\n",
              "\n",
              "        async function convertToInteractive(key) {\n",
              "          const element = document.querySelector('#df-ac4e52d6-0f1a-490c-8cf7-9be525ddfc7c');\n",
              "          const dataTable =\n",
              "            await google.colab.kernel.invokeFunction('convertToInteractive',\n",
              "                                                     [key], {});\n",
              "          if (!dataTable) return;\n",
              "\n",
              "          const docLinkHtml = 'Like what you see? Visit the ' +\n",
              "            '<a target=\"_blank\" href=https://colab.research.google.com/notebooks/data_table.ipynb>data table notebook</a>'\n",
              "            + ' to learn more about interactive tables.';\n",
              "          element.innerHTML = '';\n",
              "          dataTable['output_type'] = 'display_data';\n",
              "          await google.colab.output.renderOutput(dataTable, element);\n",
              "          const docLink = document.createElement('div');\n",
              "          docLink.innerHTML = docLinkHtml;\n",
              "          element.appendChild(docLink);\n",
              "        }\n",
              "      </script>\n",
              "    </div>\n",
              "  </div>\n",
              "  "
            ]
          },
          "metadata": {},
          "execution_count": 521
        }
      ]
    },
    {
      "cell_type": "markdown",
      "source": [
        "В результате мы получили матрицу, отражающую связь значений мод (True, если мода Операнда А больше, чем Операнда В) с учетом статистической значимости различий соответствующих выборок.\n",
        "\n",
        "Расчитаем и отобразим на графике получившийся рейтинг популярности вендоров.\n",
        "Для этого осуществим попарную сортировку производителей по следующему правилу - если значение из вышеуказанной матрицы равно True, то производитель, указанный в наименовании столбца, получает рейтинг на 1 выше, чем производитель из наименования строки. Перебираем матрицу несколько раз - до тех пор, пока рейтинг не перестанет меняться. Это гарантирует, что все приведенные в матрице условия будут выполнены. "
      ],
      "metadata": {
        "id": "epbT7apai2cG"
      }
    },
    {
      "cell_type": "code",
      "source": [
        "rt = rating_of_vendors(B)\n",
        "rt"
      ],
      "metadata": {
        "colab": {
          "base_uri": "https://localhost:8080/"
        },
        "id": "1ICQCaH9UtWE",
        "outputId": "4d83179b-b258-4798-f376-71d22de5b3bd"
      },
      "execution_count": null,
      "outputs": [
        {
          "output_type": "execute_result",
          "data": {
            "text/plain": [
              "{'SAPPHIRE': 0,\n",
              " 'INNO3D': 0,\n",
              " 'PNY': 0,\n",
              " 'COLORFUL': 0,\n",
              " 'GIGABYTE': 1,\n",
              " 'ASUS': 2,\n",
              " 'MSI': 3,\n",
              " 'KFA2': 3,\n",
              " 'PALIT': 3}"
            ]
          },
          "metadata": {},
          "execution_count": 522
        }
      ]
    },
    {
      "cell_type": "markdown",
      "source": [
        "#Проверка гипотез. Выводы\n",
        "- Закон распределения количества голосов за товары на сайте онлайн-магазина отличен от нормального\n",
        "- С помощью попарной проверки гипотез $H_0$ о равенстве средних для прочих распределений удалось выявить пары производителей, между которыми есть статистически значимое отношение популярности. Перебрав все пары, был построен рейтинг, на вершине которого находятся наиболее популярные производители."
      ],
      "metadata": {
        "id": "c8_TZ6IHJf1i"
      }
    },
    {
      "cell_type": "code",
      "source": [
        "values = list(rt.values())\n",
        "keys = list(rt.keys())\n",
        "plt.barh(y=keys, width=values)\n",
        "plt.show()"
      ],
      "metadata": {
        "colab": {
          "base_uri": "https://localhost:8080/",
          "height": 483
        },
        "id": "fvuKmvXDuW1j",
        "outputId": "d9579f93-eda7-4fc1-e692-d6dd9983e11a"
      },
      "execution_count": null,
      "outputs": [
        {
          "output_type": "display_data",
          "data": {
            "text/plain": [
              "<Figure size 576x576 with 1 Axes>"
            ],
            "image/png": "[encoded data removed]"
          },
          "metadata": {
            "needs_background": "light"
          }
        }
      ]
    }
  ]
}